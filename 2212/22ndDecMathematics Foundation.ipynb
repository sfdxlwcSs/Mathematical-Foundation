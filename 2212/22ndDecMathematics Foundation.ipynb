{
 "cells": [
  {
   "cell_type": "code",
   "execution_count": 1,
   "id": "76c260eb-5cf0-4f77-8608-604f34221e38",
   "metadata": {},
   "outputs": [
    {
     "name": "stdout",
     "output_type": "stream",
     "text": [
      "det(A) = -2.0000000000000004\n",
      "det(B) = 6.0\n",
      "det(AB) = -12.0\n",
      "Does |AB| = |A||B|? True\n"
     ]
    }
   ],
   "source": [
    "import numpy as np\n",
    "\n",
    "# Define the matrices A and B\n",
    "A = np.array([[1, 2], [3, 4]])\n",
    "B = np.array([[2, 0], [1, 3]])\n",
    "\n",
    "# Calculate the determinants of A and B\n",
    "det_A = np.linalg.det(A)\n",
    "det_B = np.linalg.det(B)\n",
    "\n",
    "# Calculate the product of A and B\n",
    "AB = np.dot(A, B)\n",
    "\n",
    "# Calculate the determinant of the product AB\n",
    "det_AB = np.linalg.det(AB)\n",
    "\n",
    "# Verify the property |AB| = |A||B|\n",
    "property_holds = np.isclose(det_AB, det_A * det_B)\n",
    "\n",
    "print(f\"det(A) = {det_A}\")\n",
    "print(f\"det(B) = {det_B}\")\n",
    "print(f\"det(AB) = {det_AB}\")\n",
    "print(f\"Does |AB| = |A||B|? {property_holds}\")\n"
   ]
  },
  {
   "cell_type": "code",
   "execution_count": null,
   "id": "b61f8add-3f1c-4341-9545-e171d53bcc24",
   "metadata": {},
   "outputs": [],
   "source": []
  }
 ],
 "metadata": {
  "kernelspec": {
   "display_name": "Python 3 (ipykernel)",
   "language": "python",
   "name": "python3"
  },
  "language_info": {
   "codemirror_mode": {
    "name": "ipython",
    "version": 3
   },
   "file_extension": ".py",
   "mimetype": "text/x-python",
   "name": "python",
   "nbconvert_exporter": "python",
   "pygments_lexer": "ipython3",
   "version": "3.12.4"
  }
 },
 "nbformat": 4,
 "nbformat_minor": 5
}
