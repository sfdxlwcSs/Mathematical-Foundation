{
 "cells": [
  {
   "cell_type": "code",
   "execution_count": 1,
   "id": "76c260eb-5cf0-4f77-8608-604f34221e38",
   "metadata": {},
   "outputs": [
    {
     "name": "stdout",
     "output_type": "stream",
     "text": [
      "det(A) = -2.0000000000000004\n",
      "det(B) = 6.0\n",
      "det(AB) = -12.0\n",
      "Does |AB| = |A||B|? True\n"
     ]
    }
   ],
   "source": [
    "import numpy as np\n",
    "\n",
    "# Define the matrices A and B\n",
    "A = np.array([[1, 2], [3, 4]])\n",
    "B = np.array([[2, 0], [1, 3]])\n",
    "\n",
    "# Calculate the determinants of A and B\n",
    "det_A = np.linalg.det(A)\n",
    "det_B = np.linalg.det(B)\n",
    "\n",
    "# Calculate the product of A and B\n",
    "AB = np.dot(A, B)\n",
    "\n",
    "# Calculate the determinant of the product AB\n",
    "det_AB = np.linalg.det(AB)\n",
    "\n",
    "# Verify the property |AB| = |A||B|\n",
    "property_holds = np.isclose(det_AB, det_A * det_B)\n",
    "\n",
    "print(f\"det(A) = {det_A}\")\n",
    "print(f\"det(B) = {det_B}\")\n",
    "print(f\"det(AB) = {det_AB}\")\n",
    "print(f\"Does |AB| = |A||B|? {property_holds}\")\n"
   ]
  },
  {
   "cell_type": "markdown",
   "id": "03f2dca2-dda6-4764-b9f0-10b34c0bba6d",
   "metadata": {},
   "source": [
    "Perform Convolution"
   ]
  },
  {
   "cell_type": "markdown",
   "id": "5153f229-2b63-4666-bdbe-022ad19bd8d1",
   "metadata": {},
   "source": [
    "Convolution is a mathematical operation used in signal processing, image processing, and many other fields. It combines two functions to produce a third function that expresses how the shape of one is modified by the other.\n",
    "\n",
    "Steps to Perform Convolution\n",
    "Define the Input Signal: This is the original data or signal.\n",
    "\n",
    "Define the Kernel: This is the filter or mask that will be applied to the input signal.\n",
    "\n",
    "Perform Convolution: Slide the kernel over the input signal and compute the dot product at each position."
   ]
  },
  {
   "cell_type": "code",
   "execution_count": 9,
   "id": "5461abe7-7750-425a-99d6-0dbc65d9b647",
   "metadata": {},
   "outputs": [
    {
     "name": "stdout",
     "output_type": "stream",
     "text": [
      "Input Signal: [1 2 3 4 5]\n",
      "Kernel: [ 1  0 -1]\n",
      "Output Signal: [ 1  2  2  2  2 -4 -5]\n",
      "Input Signal: [1 2 3 4 5]\n",
      "Kernel: [ 1  0 -1]\n",
      "Output Signal: [ 1  2  2  2  2 -4 -5]\n"
     ]
    },
    {
     "data": {
      "image/png": "[encoded data removed]",
      "text/plain": [
       "<Figure size 1000x400 with 3 Axes>"
      ]
     },
     "metadata": {},
     "output_type": "display_data"
    }
   ],
   "source": [
    "import numpy as np\n",
    "\n",
    "# Define the input signal (1D array)\n",
    "input_signal = np.array([1, 2, 3, 4, 5])\n",
    "\n",
    "# Define the kernel (1D array)\n",
    "kernel = np.array([1, 0, -1])\n",
    "\n",
    "# Perform convolution using np.convolve\n",
    "output_signal = np.convolve(input_signal, kernel, mode='full')\n",
    "\n",
    "print(\"Input Signal:\", input_signal)\n",
    "print(\"Kernel:\", kernel)\n",
    "print(\"Output Signal:\", output_signal)\n",
    "import numpy as np\n",
    "import matplotlib.pyplot as plt\n",
    "\n",
    "# Define the input signal (1D array)\n",
    "input_signal = np.array([1, 2, 3, 4, 5])\n",
    "\n",
    "# Define the kernel (1D array)\n",
    "kernel = np.array([1, 0, -1])\n",
    "\n",
    "# Perform convolution using np.convolve\n",
    "output_signal = np.convolve(input_signal, kernel, mode='full')\n",
    "\n",
    "print(\"Input Signal:\", input_signal)\n",
    "print(\"Kernel:\", kernel)\n",
    "print(\"Output Signal:\", output_signal)\n",
    "\n",
    "# Plot the input signal\n",
    "plt.figure(figsize=(10, 4))\n",
    "plt.subplot(1, 3, 1)\n",
    "plt.stem(input_signal)\n",
    "plt.title('Input Signal')\n",
    "\n",
    "# Plot the kernel\n",
    "plt.subplot(1, 3, 2)\n",
    "plt.stem(kernel)\n",
    "plt.title('Kernel')\n",
    "\n",
    "# Plot the output signal\n",
    "plt.subplot(1, 3, 3)\n",
    "plt.stem(output_signal)\n",
    "plt.title('Output Signal')\n",
    "\n",
    "plt.tight_layout()\n",
    "plt.show()\n"
   ]
  },
  {
   "cell_type": "code",
   "execution_count": 21,
   "id": "9a226663-a53c-49d2-ba16-f741126701bb",
   "metadata": {},
   "outputs": [
    {
     "name": "stdout",
     "output_type": "stream",
     "text": [
      "7 7\n",
      "Input Signal:\n",
      " [[ 1  2  3  4  5  6  7]\n",
      " [ 8  9 10 11 12 13 14]\n",
      " [15 16 17 18 19 20 21]\n",
      " [22 23 24 25 26 27 28]\n",
      " [29 30 31 32 33 34 35]\n",
      " [36 37 38 39 40 41 42]\n",
      " [43 44 45 46 47 48 49]]\n",
      "Kernel:\n",
      " [[ 1  0]\n",
      " [ 0 -1]]\n",
      "Output Signal:\n",
      " [[-8. -8. -8. -8. -8. -8.]\n",
      " [-8. -8. -8. -8. -8. -8.]\n",
      " [-8. -8. -8. -8. -8. -8.]\n",
      " [-8. -8. -8. -8. -8. -8.]\n",
      " [-8. -8. -8. -8. -8. -8.]\n",
      " [-8. -8. -8. -8. -8. -8.]]\n"
     ]
    }
   ],
   "source": [
    "import numpy as np\n",
    "\n",
    "# Define the input signal (7x7 matrix)\n",
    "input_signal = np.array([\n",
    "    [1, 2, 3, 4, 5, 6, 7],\n",
    "    [8, 9, 10, 11, 12, 13, 14],\n",
    "    [15, 16, 17, 18, 19, 20, 21],\n",
    "    [22, 23, 24, 25, 26, 27, 28],\n",
    "    [29, 30, 31, 32, 33, 34, 35],\n",
    "    [36, 37, 38, 39, 40, 41, 42],\n",
    "    [43, 44, 45, 46, 47, 48, 49]\n",
    "])\n",
    "\n",
    "# Define the kernel (2x2 matrix)\n",
    "kernel = np.array([\n",
    "    [1, 0],\n",
    "    [0, -1]\n",
    "])\n",
    "\n",
    "\n",
    "# Dimensions of input signal and kernel\n",
    "input_rows, input_cols = input_signal.shape\n",
    "print(input_rows,input_cols)\n",
    "kernel_rows, kernel_cols = kernel.shape\n",
    "\n",
    "# Output signal dimensions\n",
    "output_rows = input_rows - kernel_rows + 1\n",
    "output_cols = input_cols - kernel_cols + 1\n",
    "\n",
    "# Initialize the output signal with zeros\n",
    "output_signal = np.zeros((output_rows, output_cols))\n",
    "\n",
    "# Perform convolution using for loops\n",
    "for i in range(output_rows):\n",
    "    for j in range(output_cols):\n",
    "        for m in range(kernel_rows):\n",
    "            for n in range(kernel_cols):\n",
    "                output_signal[i, j] += input_signal[i + m, j + n] * kernel[m, n]\n",
    "\n",
    "print(\"Input Signal:\\n\", input_signal)\n",
    "print(\"Kernel:\\n\", kernel)\n",
    "print(\"Output Signal:\\n\", output_signal)\n"
   ]
  },
  {
   "cell_type": "code",
   "execution_count": 25,
   "id": "e5547e29-c59a-466a-9901-792c46f045d4",
   "metadata": {},
   "outputs": [
    {
     "name": "stdout",
     "output_type": "stream",
     "text": [
      "Input Signal:\n",
      " [[ 1  2  3  4  5  6]\n",
      " [ 7  8  9 10 11 12]\n",
      " [13 14 15 16 17 18]\n",
      " [19 20 21 22 23 24]\n",
      " [25 26 27 28 29 30]\n",
      " [31 32 33 34 35 36]\n",
      " [37 38 39 40 41 42]]\n",
      "Kernel:\n",
      " [[ 1  0]\n",
      " [ 0 -1]]\n",
      "Output Signal:\n",
      " [[-7. -7. -7. -7. -7.]\n",
      " [-7. -7. -7. -7. -7.]\n",
      " [-7. -7. -7. -7. -7.]\n",
      " [-7. -7. -7. -7. -7.]\n",
      " [-7. -7. -7. -7. -7.]\n",
      " [-7. -7. -7. -7. -7.]]\n"
     ]
    }
   ],
   "source": [
    "import numpy as np\n",
    "\n",
    "# Define the input signal (7x6 matrix) for convolution_2d\n",
    "input_signal = np.array([\n",
    "    [1, 2, 3, 4, 5, 6],\n",
    "    [7, 8, 9, 10, 11, 12],\n",
    "    [13, 14, 15, 16, 17, 18],\n",
    "    [19, 20, 21, 22, 23, 24],\n",
    "    [25, 26, 27, 28, 29, 30],\n",
    "    [31, 32, 33, 34, 35, 36],\n",
    "    [37, 38, 39, 40, 41, 42]\n",
    "])\n",
    "\n",
    "# Define the kernel (2x2 matrix)\n",
    "kernel = np.array([\n",
    "    [1, 0],\n",
    "    [0, -1]\n",
    "])\n",
    "\n",
    "# Dimensions of input signal and kernel\n",
    "input_rows, input_cols = input_signal.shape\n",
    "kernel_rows, kernel_cols = kernel.shape\n",
    "\n",
    "# Output signal dimensions\n",
    "output_rows = input_rows - kernel_rows + 1\n",
    "output_cols = input_cols - kernel_cols + 1\n",
    "\n",
    "# Initialize the output signal with zeros\n",
    "output_signal = np.zeros((output_rows, output_cols))\n",
    "\n",
    "# Perform convolution using for loops\n",
    "for i in range(output_rows):\n",
    "    for j in range(output_cols):\n",
    "        summation=0\n",
    "        for m in range(kernel_rows):\n",
    "            for n in range(kernel_cols):\n",
    "                summation+= input_signal[i + m, j + n] * kernel[m, n]\n",
    "                output_signal[i, j] =summation\n",
    "\n",
    "# Print the results\n",
    "print(\"Input Signal:\\n\", input_signal)\n",
    "print(\"Kernel:\\n\", kernel)\n",
    "print(\"Output Signal:\\n\", output_signal)\n"
   ]
  },
  {
   "cell_type": "markdown",
   "id": "65c11f4b-d7e2-4a08-86cc-dff1b8e6dae1",
   "metadata": {},
   "source": [
    "Explanation\n",
    "\n",
    "\n",
    "Define the Input Signal: We create a 7x6 matrix input_signal representing the original data.\n",
    "\n",
    "Define the Kernel: We create a 2x2 matrix kernel representing the filter.\n",
    "\n",
    "Dimensions of Input Signal and Kernel: We calculate the dimensions of the input signal and kernel.\n",
    "\n",
    "Output Signal Dimensions: We calculate the dimensions of the output signal as (input_rows - kernel_rows + 1, input_cols - kernel_cols + 1).\n",
    "\n",
    "Initialize the Output Signal: We initialize the output signal with zeros.\n",
    "\n",
    "Perform Convolution Using For Loops: We use nested for loops to slide the kernel over the input signal and compute the dot product at each position. The outer loops iterate over the output signal dimensions, and the inner loops iterate over the kernel dimensions.\n",
    "\n",
    "Print the Results: We print the input signal, kernel, and output signal."
   ]
  },
  {
   "cell_type": "code",
   "execution_count": 29,
   "id": "8d660843-6fed-43bd-b434-d3c74cdd317c",
   "metadata": {},
   "outputs": [
    {
     "name": "stdout",
     "output_type": "stream",
     "text": [
      "Matrix Q:\n",
      " [[ 0.70710678  0.70710678]\n",
      " [-0.70710678  0.70710678]]\n",
      "Transpose of Q:\n",
      " [[ 0.70710678 -0.70710678]\n",
      " [ 0.70710678  0.70710678]]\n",
      "Inverse of Q:\n",
      " [[ 0.70710678 -0.70710678]\n",
      " [ 0.70710678  0.70710678]]\n",
      "Is the matrix orthogonal? True\n"
     ]
    }
   ],
   "source": [
    "#Orthogonal Matrix\n",
    "import numpy as np\n",
    "\n",
    "# Define the matrix\n",
    "Q = np.array([\n",
    "    [1/np.sqrt(2), 1/np.sqrt(2)],\n",
    "    [-1/np.sqrt(2), 1/np.sqrt(2)]\n",
    "])\n",
    "\n",
    "# Calculate the transpose of the matrix\n",
    "Q_T = np.transpose(Q)\n",
    "\n",
    "# Calculate the inverse of the matrix\n",
    "Q_inv = np.linalg.inv(Q)\n",
    "\n",
    "# Check if the transpose is equal to the inverse\n",
    "is_orthogonal = np.allclose(Q_T, Q_inv)\n",
    "\n",
    "print(\"Matrix Q:\\n\", Q)\n",
    "print(\"Transpose of Q:\\n\", Q_T)\n",
    "print(\"Inverse of Q:\\n\", Q_inv)\n",
    "print(\"Is the matrix orthogonal?\", is_orthogonal)\n",
    "\n"
   ]
  },
  {
   "cell_type": "code",
   "execution_count": 33,
   "id": "d5513e12-6405-445a-b274-df7aafb5ed6b",
   "metadata": {},
   "outputs": [
    {
     "name": "stdout",
     "output_type": "stream",
     "text": [
      "Solution: [11.66666667  6.66666667 -5.         -3.33333333]\n",
      "x1 = 11.666666666666671\n",
      "x2 = 6.666666666666668\n",
      "x3 = -5.000000000000002\n",
      "x4 = -3.333333333333335\n"
     ]
    }
   ],
   "source": [
    "# 𝑥1​+𝑥2​+𝑥3​+𝑥4​=10 \n",
    "# 2𝑥1​−𝑥2​+3𝑥3​−𝑥4​=5 \n",
    "# −𝑥1​+4𝑥2​=15  \n",
    "# 3𝑥1​−𝑥2​−𝑥3​+4𝑥4​=20 \n",
    "\n",
    "import numpy as np\n",
    "\n",
    "# Coefficient matrix\n",
    "A = np.array([\n",
    "    [1, 1, 1, 1],\n",
    "    [2, -1, 3, -1],\n",
    "    [-1, 4, 0, 0],\n",
    "    [3, -1, -1, 4]\n",
    "])\n",
    "\n",
    "# Constant terms\n",
    "B = np.array([10, 5, 15, 20])\n",
    "\n",
    "# Solve the system of equations\n",
    "X = np.linalg.solve(A, B)\n",
    "\n",
    "print(\"Solution:\",X)\n",
    "print(\"x1 =\", X[0])\n",
    "print(\"x2 =\", X[1])\n",
    "print(\"x3 =\", X[2])\n",
    "print(\"x4 =\", X[3])\n"
   ]
  },
  {
   "cell_type": "code",
   "execution_count": 43,
   "id": "56a1b4f7-85b4-4e33-a91e-34fe605002c0",
   "metadata": {},
   "outputs": [
    {
     "name": "stdout",
     "output_type": "stream",
     "text": [
      "Matrix A:\n",
      " [[9 4]\n",
      " [4 3]]\n",
      "Eigenvalues:\n",
      " [11.  1.]\n",
      "Eigenvectors:\n",
      " [[ 0.89442719 -0.4472136 ]\n",
      " [ 0.4472136   0.89442719]]\n",
      "Eigenvectors corrsponding to 11 is:\n",
      " [0.89442719 0.4472136 ]\n"
     ]
    }
   ],
   "source": [
    "import numpy as np\n",
    "\n",
    "# Define the matrix\n",
    "A = np.array([\n",
    "    [9, 4],\n",
    "    [4, 3]\n",
    "])\n",
    "\n",
    "# Compute the eigenvalues and eigenvectors\n",
    "eigenvalues, eigenvectors = np.linalg.eig(A)\n",
    "\n",
    "print(\"Matrix A:\\n\", A)\n",
    "print(\"Eigenvalues:\\n\", eigenvalues)\n",
    "print(\"Eigenvectors:\\n\", eigenvectors)\n",
    "print(\"Eigenvectors corrsponding to 11 is:\\n\", eigenvectors[:,0])\n"
   ]
  },
  {
   "cell_type": "code",
   "execution_count": 45,
   "id": "1694e011-87c1-4774-88d0-099ed016eb00",
   "metadata": {},
   "outputs": [
    {
     "name": "stdout",
     "output_type": "stream",
     "text": [
      "The eigenvector corresponding to the eigenvalue 11.00 is:\n",
      "[0.89442719 0.4472136 ]\n",
      "Norm of this eigenvector: 1.00\n",
      "\n",
      "The eigenvector corresponding to the eigenvalue 1.00 is:\n",
      "[-0.4472136   0.89442719]\n",
      "Norm of this eigenvector: 1.00\n",
      "\n"
     ]
    }
   ],
   "source": [
    "import numpy as np\n",
    "\n",
    "# Define the matrix\n",
    "matrix = np.array([[9, 4],\n",
    "                   [4, 3]])\n",
    "\n",
    "# Compute eigenvalues and eigenvectors\n",
    "eigenvalues, eigenvectors = np.linalg.eig(matrix)\n",
    "\n",
    "# Print the results in a descriptive format\n",
    "for i, eigenvalue in enumerate(eigenvalues):\n",
    "    eigenvector = eigenvectors[:, i]\n",
    "    norm = np.linalg.norm(eigenvector)\n",
    "    print(f\"The eigenvector corresponding to the eigenvalue {eigenvalue:.2f} is:\")\n",
    "    print(eigenvector)\n",
    "    print(f\"Norm of this eigenvector: {norm:.2f}\\n\")\n"
   ]
  },
  {
   "cell_type": "code",
   "execution_count": 47,
   "id": "9daf6d97-60d9-42ba-81ed-99afb30c2db1",
   "metadata": {},
   "outputs": [
    {
     "name": "stdout",
     "output_type": "stream",
     "text": [
      "The eigenvector corresponding to the eigenvalue 4.00 is:\n",
      "[ 0.45749571  0.76249285 -0.45749571]\n",
      "Norm of this eigenvector: 1.00\n",
      "\n",
      "The eigenvector corresponding to the eigenvalue 2.00 is:\n",
      "[ 0.40824829 -0.81649658  0.40824829]\n",
      "Norm of this eigenvector: 1.00\n",
      "\n",
      "The eigenvector corresponding to the eigenvalue 0.00 is:\n",
      "[-0.57735027 -0.57735027  0.57735027]\n",
      "Norm of this eigenvector: 1.00\n",
      "\n"
     ]
    }
   ],
   "source": [
    "import numpy as np\n",
    "\n",
    "# Define the matrix\n",
    "matrix = np.array([[4, 6, 10],\n",
    "                   [3, 10, 13],\n",
    "                   [-2, -6, -8]])\n",
    "\n",
    "# Compute eigenvalues and eigenvectors\n",
    "eigenvalues, eigenvectors = np.linalg.eig(matrix)\n",
    "\n",
    "# Print the results in a descriptive format\n",
    "for i, eigenvalue in enumerate(eigenvalues):\n",
    "    eigenvector = eigenvectors[:, i]\n",
    "    norm = np.linalg.norm(eigenvector)\n",
    "    print(f\"The eigenvector corresponding to the eigenvalue {eigenvalue:.2f} is:\")\n",
    "    print(eigenvector)\n",
    "    print(f\"Norm of this eigenvector: {norm:.2f}\\n\")"
   ]
  },
  {
   "cell_type": "code",
   "execution_count": null,
   "id": "36b7401d-bcf9-4f85-8d8e-ae7134664e4e",
   "metadata": {},
   "outputs": [],
   "source": []
  }
 ],
 "metadata": {
  "kernelspec": {
   "display_name": "Python 3 (ipykernel)",
   "language": "python",
   "name": "python3"
  },
  "language_info": {
   "codemirror_mode": {
    "name": "ipython",
    "version": 3
   },
   "file_extension": ".py",
   "mimetype": "text/x-python",
   "name": "python",
   "nbconvert_exporter": "python",
   "pygments_lexer": "ipython3",
   "version": "3.12.4"
  }
 },
 "nbformat": 4,
 "nbformat_minor": 5
}
