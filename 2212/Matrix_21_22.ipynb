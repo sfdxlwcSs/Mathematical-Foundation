{
  "nbformat": 4,
  "nbformat_minor": 0,
  "metadata": {
    "colab": {
      "provenance": []
    },
    "kernelspec": {
      "name": "python3",
      "display_name": "Python 3"
    },
    "language_info": {
      "name": "python"
    }
  },
  "cells": [
    {
      "cell_type": "code",
      "execution_count": null,
      "metadata": {
        "colab": {
          "base_uri": "https://localhost:8080/"
        },
        "id": "SP5faCxl0DIE",
        "outputId": "b2f13a3e-a999-410e-d92e-7cdfb346da9b"
      },
      "outputs": [
        {
          "output_type": "stream",
          "name": "stdout",
          "text": [
            "A+B= [[ 6  8]\n",
            " [10 12]]\n",
            "A-B= [[-4 -4]\n",
            " [-4 -4]]\n"
          ]
        }
      ],
      "source": [
        "# Matrix addition\n",
        "import numpy as np\n",
        "A=np.array([[1,2],[3,4]])\n",
        "B=np.array([[5,6],[7,8]])\n",
        "print(\"A+B=\",A+B)\n",
        "print(\"A-B=\",A-B)"
      ]
    },
    {
      "cell_type": "code",
      "source": [
        "import numpy as np\n",
        "import matplotlib.pyplot as plt\n",
        "from tensorflow.keras.datasets import mnist\n",
        "\n",
        "# Load MNIST data\n",
        "(x_train, y_train), (_, _) = mnist.load_data()\n",
        "\n",
        "# Extract one image of '0' and one image of '7'\n",
        "zero_image = x_train[y_train == 1][0]  # First '0' image\n",
        "seven_image = x_train[y_train == 4][0]  # First '7' image\n",
        "\n",
        "# Print the images as matrices\n",
        "print(\"Matrix representation of '0':\\n\", zero_image)\n",
        "print(\"Matrix representation of '7':\\n\", seven_image)\n",
        "\n",
        "# Perform algebraic operations\n",
        "addition_result = zero_image + seven_image\n",
        "subtraction_result = zero_image - seven_image\n",
        "\n",
        "# Print results\n",
        "print(\"Addition of '0' and '7':\\n\", addition_result)\n",
        "print(\"Subtraction of '0' and '7':\\n\", subtraction_result)\n",
        "\n",
        "# Visualize the original images and results\n",
        "plt.figure(figsize=(10, 8))\n",
        "\n",
        "plt.subplot(2, 2, 1)\n",
        "plt.title(\"Digit 0\")\n",
        "plt.imshow(zero_image, cmap=\"gray\")\n",
        "plt.axis(\"off\")\n",
        "\n",
        "plt.subplot(2, 2, 2)\n",
        "plt.title(\"Digit 7\")\n",
        "plt.imshow(seven_image, cmap=\"gray\")\n",
        "plt.axis(\"off\")\n",
        "\n",
        "plt.subplot(2, 2, 3)\n",
        "plt.title(\"Addition Result\")\n",
        "plt.imshow(addition_result, cmap=\"gray\")\n",
        "plt.axis(\"off\")\n",
        "\n",
        "plt.subplot(2, 2, 4)\n",
        "plt.title(\"Subtraction Result\")\n",
        "plt.imshow(subtraction_result, cmap=\"gray\")\n",
        "plt.axis(\"off\")\n",
        "\n",
        "plt.tight_layout()\n",
        "plt.show()\n"
      ],
      "metadata": {
        "colab": {
          "base_uri": "https://localhost:8080/",
          "height": 1000
        },
        "id": "tEUWWFTF4HBR",
        "outputId": "b25fb21d-a011-4439-9295-399e08251124"
      },
      "execution_count": null,
      "outputs": [
        {
          "output_type": "stream",
          "name": "stdout",
          "text": [
            "Matrix representation of '0':\n",
            " [[  0   0   0   0   0   0   0   0   0   0   0   0   0   0   0   0   0   0\n",
            "    0   0   0   0   0   0   0   0   0   0]\n",
            " [  0   0   0   0   0   0   0   0   0   0   0   0   0   0   0   0   0   0\n",
            "    0   0   0   0   0   0   0   0   0   0]\n",
            " [  0   0   0   0   0   0   0   0   0   0   0   0   0   0   0   0   0   0\n",
            "    0   0   0   0   0   0   0   0   0   0]\n",
            " [  0   0   0   0   0   0   0   0   0   0   0   0   0   0   0   0   0   0\n",
            "    0   0   0   0   0   0   0   0   0   0]\n",
            " [  0   0   0   0   0   0   0   0   0   0   0   0   0   0   0   0   0   0\n",
            "    0   0   0   0   0   0   0   0   0   0]\n",
            " [  0   0   0   0   0   0   0   0   0   0   0   0   0   0   0   0   0   0\n",
            "  124 253 255  63   0   0   0   0   0   0]\n",
            " [  0   0   0   0   0   0   0   0   0   0   0   0   0   0   0   0   0  96\n",
            "  244 251 253  62   0   0   0   0   0   0]\n",
            " [  0   0   0   0   0   0   0   0   0   0   0   0   0   0   0   0   0 127\n",
            "  251 251 253  62   0   0   0   0   0   0]\n",
            " [  0   0   0   0   0   0   0   0   0   0   0   0   0   0   0   0  68 236\n",
            "  251 211  31   8   0   0   0   0   0   0]\n",
            " [  0   0   0   0   0   0   0   0   0   0   0   0   0   0   0  60 228 251\n",
            "  251  94   0   0   0   0   0   0   0   0]\n",
            " [  0   0   0   0   0   0   0   0   0   0   0   0   0   0   0 155 253 253\n",
            "  189   0   0   0   0   0   0   0   0   0]\n",
            " [  0   0   0   0   0   0   0   0   0   0   0   0   0   0  20 253 251 235\n",
            "   66   0   0   0   0   0   0   0   0   0]\n",
            " [  0   0   0   0   0   0   0   0   0   0   0   0   0  32 205 253 251 126\n",
            "    0   0   0   0   0   0   0   0   0   0]\n",
            " [  0   0   0   0   0   0   0   0   0   0   0   0   0 104 251 253 184  15\n",
            "    0   0   0   0   0   0   0   0   0   0]\n",
            " [  0   0   0   0   0   0   0   0   0   0   0   0  80 240 251 193  23   0\n",
            "    0   0   0   0   0   0   0   0   0   0]\n",
            " [  0   0   0   0   0   0   0   0   0   0   0  32 253 253 253 159   0   0\n",
            "    0   0   0   0   0   0   0   0   0   0]\n",
            " [  0   0   0   0   0   0   0   0   0   0   0 151 251 251 251  39   0   0\n",
            "    0   0   0   0   0   0   0   0   0   0]\n",
            " [  0   0   0   0   0   0   0   0   0   0  48 221 251 251 172   0   0   0\n",
            "    0   0   0   0   0   0   0   0   0   0]\n",
            " [  0   0   0   0   0   0   0   0   0   0 234 251 251 196  12   0   0   0\n",
            "    0   0   0   0   0   0   0   0   0   0]\n",
            " [  0   0   0   0   0   0   0   0   0   0 253 251 251  89   0   0   0   0\n",
            "    0   0   0   0   0   0   0   0   0   0]\n",
            " [  0   0   0   0   0   0   0   0   0 159 255 253 253  31   0   0   0   0\n",
            "    0   0   0   0   0   0   0   0   0   0]\n",
            " [  0   0   0   0   0   0   0   0  48 228 253 247 140   8   0   0   0   0\n",
            "    0   0   0   0   0   0   0   0   0   0]\n",
            " [  0   0   0   0   0   0   0   0  64 251 253 220   0   0   0   0   0   0\n",
            "    0   0   0   0   0   0   0   0   0   0]\n",
            " [  0   0   0   0   0   0   0   0  64 251 253 220   0   0   0   0   0   0\n",
            "    0   0   0   0   0   0   0   0   0   0]\n",
            " [  0   0   0   0   0   0   0   0  24 193 253 220   0   0   0   0   0   0\n",
            "    0   0   0   0   0   0   0   0   0   0]\n",
            " [  0   0   0   0   0   0   0   0   0   0   0   0   0   0   0   0   0   0\n",
            "    0   0   0   0   0   0   0   0   0   0]\n",
            " [  0   0   0   0   0   0   0   0   0   0   0   0   0   0   0   0   0   0\n",
            "    0   0   0   0   0   0   0   0   0   0]\n",
            " [  0   0   0   0   0   0   0   0   0   0   0   0   0   0   0   0   0   0\n",
            "    0   0   0   0   0   0   0   0   0   0]]\n",
            "Matrix representation of '7':\n",
            " [[  0   0   0   0   0   0   0   0   0   0   0   0   0   0   0   0   0   0\n",
            "    0   0   0   0   0   0   0   0   0   0]\n",
            " [  0   0   0   0   0   0   0   0   0   0   0   0   0   0   0   0   0   0\n",
            "    0   0   0   0   0   0   0   0   0   0]\n",
            " [  0   0   0   0   0   0   0   0   0   0   0   0   0   0   0   0   0   0\n",
            "    0   0   0   0   0   0   0   0   0   0]\n",
            " [  0   0   0   0   0   0   0   0   0   0   0   0   0   0   0   0   0   0\n",
            "    0   0   0   0   0   0   0   0   0   0]\n",
            " [  0   0   0   0   0   0   0   0   0   0   0   0   0   0   0   0   0   0\n",
            "    0   0   0   0   0   0   0   0   0   0]\n",
            " [  0   0   0   0   0   0   0   0   0   0   0   0   0   0   0   0   0   0\n",
            "    0   0  67 232  39   0   0   0   0   0]\n",
            " [  0   0   0   0  62  81   0   0   0   0   0   0   0   0   0   0   0   0\n",
            "    0   0 120 180  39   0   0   0   0   0]\n",
            " [  0   0   0   0 126 163   0   0   0   0   0   0   0   0   0   0   0   0\n",
            "    0   2 153 210  40   0   0   0   0   0]\n",
            " [  0   0   0   0 220 163   0   0   0   0   0   0   0   0   0   0   0   0\n",
            "    0  27 254 162   0   0   0   0   0   0]\n",
            " [  0   0   0   0 222 163   0   0   0   0   0   0   0   0   0   0   0   0\n",
            "    0 183 254 125   0   0   0   0   0   0]\n",
            " [  0   0   0  46 245 163   0   0   0   0   0   0   0   0   0   0   0   0\n",
            "    0 198 254  56   0   0   0   0   0   0]\n",
            " [  0   0   0 120 254 163   0   0   0   0   0   0   0   0   0   0   0   0\n",
            "   23 231 254  29   0   0   0   0   0   0]\n",
            " [  0   0   0 159 254 120   0   0   0   0   0   0   0   0   0   0   0   0\n",
            "  163 254 216  16   0   0   0   0   0   0]\n",
            " [  0   0   0 159 254  67   0   0   0   0   0   0   0   0   0  14  86 178\n",
            "  248 254  91   0   0   0   0   0   0   0]\n",
            " [  0   0   0 159 254  85   0   0   0  47  49 116 144 150 241 243 234 179\n",
            "  241 252  40   0   0   0   0   0   0   0]\n",
            " [  0   0   0 150 253 237 207 207 207 253 254 250 240 198 143  91  28   5\n",
            "  233 250   0   0   0   0   0   0   0   0]\n",
            " [  0   0   0   0 119 177 177 177 177 177  98  56   0   0   0   0   0 102\n",
            "  254 220   0   0   0   0   0   0   0   0]\n",
            " [  0   0   0   0   0   0   0   0   0   0   0   0   0   0   0   0   0 169\n",
            "  254 137   0   0   0   0   0   0   0   0]\n",
            " [  0   0   0   0   0   0   0   0   0   0   0   0   0   0   0   0   0 169\n",
            "  254  57   0   0   0   0   0   0   0   0]\n",
            " [  0   0   0   0   0   0   0   0   0   0   0   0   0   0   0   0   0 169\n",
            "  254  57   0   0   0   0   0   0   0   0]\n",
            " [  0   0   0   0   0   0   0   0   0   0   0   0   0   0   0   0   0 169\n",
            "  255  94   0   0   0   0   0   0   0   0]\n",
            " [  0   0   0   0   0   0   0   0   0   0   0   0   0   0   0   0   0 169\n",
            "  254  96   0   0   0   0   0   0   0   0]\n",
            " [  0   0   0   0   0   0   0   0   0   0   0   0   0   0   0   0   0 169\n",
            "  254 153   0   0   0   0   0   0   0   0]\n",
            " [  0   0   0   0   0   0   0   0   0   0   0   0   0   0   0   0   0 169\n",
            "  255 153   0   0   0   0   0   0   0   0]\n",
            " [  0   0   0   0   0   0   0   0   0   0   0   0   0   0   0   0   0  96\n",
            "  254 153   0   0   0   0   0   0   0   0]\n",
            " [  0   0   0   0   0   0   0   0   0   0   0   0   0   0   0   0   0   0\n",
            "    0   0   0   0   0   0   0   0   0   0]\n",
            " [  0   0   0   0   0   0   0   0   0   0   0   0   0   0   0   0   0   0\n",
            "    0   0   0   0   0   0   0   0   0   0]\n",
            " [  0   0   0   0   0   0   0   0   0   0   0   0   0   0   0   0   0   0\n",
            "    0   0   0   0   0   0   0   0   0   0]]\n",
            "Addition of '0' and '7':\n",
            " [[  0   0   0   0   0   0   0   0   0   0   0   0   0   0   0   0   0   0\n",
            "    0   0   0   0   0   0   0   0   0   0]\n",
            " [  0   0   0   0   0   0   0   0   0   0   0   0   0   0   0   0   0   0\n",
            "    0   0   0   0   0   0   0   0   0   0]\n",
            " [  0   0   0   0   0   0   0   0   0   0   0   0   0   0   0   0   0   0\n",
            "    0   0   0   0   0   0   0   0   0   0]\n",
            " [  0   0   0   0   0   0   0   0   0   0   0   0   0   0   0   0   0   0\n",
            "    0   0   0   0   0   0   0   0   0   0]\n",
            " [  0   0   0   0   0   0   0   0   0   0   0   0   0   0   0   0   0   0\n",
            "    0   0   0   0   0   0   0   0   0   0]\n",
            " [  0   0   0   0   0   0   0   0   0   0   0   0   0   0   0   0   0   0\n",
            "  124 253  66  39  39   0   0   0   0   0]\n",
            " [  0   0   0   0  62  81   0   0   0   0   0   0   0   0   0   0   0  96\n",
            "  244 251 117 242  39   0   0   0   0   0]\n",
            " [  0   0   0   0 126 163   0   0   0   0   0   0   0   0   0   0   0 127\n",
            "  251 253 150  16  40   0   0   0   0   0]\n",
            " [  0   0   0   0 220 163   0   0   0   0   0   0   0   0   0   0  68 236\n",
            "  251 238  29 170   0   0   0   0   0   0]\n",
            " [  0   0   0   0 222 163   0   0   0   0   0   0   0   0   0  60 228 251\n",
            "  251  21 254 125   0   0   0   0   0   0]\n",
            " [  0   0   0  46 245 163   0   0   0   0   0   0   0   0   0 155 253 253\n",
            "  189 198 254  56   0   0   0   0   0   0]\n",
            " [  0   0   0 120 254 163   0   0   0   0   0   0   0   0  20 253 251 235\n",
            "   89 231 254  29   0   0   0   0   0   0]\n",
            " [  0   0   0 159 254 120   0   0   0   0   0   0   0  32 205 253 251 126\n",
            "  163 254 216  16   0   0   0   0   0   0]\n",
            " [  0   0   0 159 254  67   0   0   0   0   0   0   0 104 251  11  14 193\n",
            "  248 254  91   0   0   0   0   0   0   0]\n",
            " [  0   0   0 159 254  85   0   0   0  47  49 116 224 134 236 180   1 179\n",
            "  241 252  40   0   0   0   0   0   0   0]\n",
            " [  0   0   0 150 253 237 207 207 207 253 254  26 237 195 140 250  28   5\n",
            "  233 250   0   0   0   0   0   0   0   0]\n",
            " [  0   0   0   0 119 177 177 177 177 177  98 207 251 251 251  39   0 102\n",
            "  254 220   0   0   0   0   0   0   0   0]\n",
            " [  0   0   0   0   0   0   0   0   0   0  48 221 251 251 172   0   0 169\n",
            "  254 137   0   0   0   0   0   0   0   0]\n",
            " [  0   0   0   0   0   0   0   0   0   0 234 251 251 196  12   0   0 169\n",
            "  254  57   0   0   0   0   0   0   0   0]\n",
            " [  0   0   0   0   0   0   0   0   0   0 253 251 251  89   0   0   0 169\n",
            "  254  57   0   0   0   0   0   0   0   0]\n",
            " [  0   0   0   0   0   0   0   0   0 159 255 253 253  31   0   0   0 169\n",
            "  255  94   0   0   0   0   0   0   0   0]\n",
            " [  0   0   0   0   0   0   0   0  48 228 253 247 140   8   0   0   0 169\n",
            "  254  96   0   0   0   0   0   0   0   0]\n",
            " [  0   0   0   0   0   0   0   0  64 251 253 220   0   0   0   0   0 169\n",
            "  254 153   0   0   0   0   0   0   0   0]\n",
            " [  0   0   0   0   0   0   0   0  64 251 253 220   0   0   0   0   0 169\n",
            "  255 153   0   0   0   0   0   0   0   0]\n",
            " [  0   0   0   0   0   0   0   0  24 193 253 220   0   0   0   0   0  96\n",
            "  254 153   0   0   0   0   0   0   0   0]\n",
            " [  0   0   0   0   0   0   0   0   0   0   0   0   0   0   0   0   0   0\n",
            "    0   0   0   0   0   0   0   0   0   0]\n",
            " [  0   0   0   0   0   0   0   0   0   0   0   0   0   0   0   0   0   0\n",
            "    0   0   0   0   0   0   0   0   0   0]\n",
            " [  0   0   0   0   0   0   0   0   0   0   0   0   0   0   0   0   0   0\n",
            "    0   0   0   0   0   0   0   0   0   0]]\n",
            "Subtraction of '0' and '7':\n",
            " [[  0   0   0   0   0   0   0   0   0   0   0   0   0   0   0   0   0   0\n",
            "    0   0   0   0   0   0   0   0   0   0]\n",
            " [  0   0   0   0   0   0   0   0   0   0   0   0   0   0   0   0   0   0\n",
            "    0   0   0   0   0   0   0   0   0   0]\n",
            " [  0   0   0   0   0   0   0   0   0   0   0   0   0   0   0   0   0   0\n",
            "    0   0   0   0   0   0   0   0   0   0]\n",
            " [  0   0   0   0   0   0   0   0   0   0   0   0   0   0   0   0   0   0\n",
            "    0   0   0   0   0   0   0   0   0   0]\n",
            " [  0   0   0   0   0   0   0   0   0   0   0   0   0   0   0   0   0   0\n",
            "    0   0   0   0   0   0   0   0   0   0]\n",
            " [  0   0   0   0   0   0   0   0   0   0   0   0   0   0   0   0   0   0\n",
            "  124 253 188  87 217   0   0   0   0   0]\n",
            " [  0   0   0   0 194 175   0   0   0   0   0   0   0   0   0   0   0  96\n",
            "  244 251 133 138 217   0   0   0   0   0]\n",
            " [  0   0   0   0 130  93   0   0   0   0   0   0   0   0   0   0   0 127\n",
            "  251 249 100 108 216   0   0   0   0   0]\n",
            " [  0   0   0   0  36  93   0   0   0   0   0   0   0   0   0   0  68 236\n",
            "  251 184  33 102   0   0   0   0   0   0]\n",
            " [  0   0   0   0  34  93   0   0   0   0   0   0   0   0   0  60 228 251\n",
            "  251 167   2 131   0   0   0   0   0   0]\n",
            " [  0   0   0 210  11  93   0   0   0   0   0   0   0   0   0 155 253 253\n",
            "  189  58   2 200   0   0   0   0   0   0]\n",
            " [  0   0   0 136   2  93   0   0   0   0   0   0   0   0  20 253 251 235\n",
            "   43  25   2 227   0   0   0   0   0   0]\n",
            " [  0   0   0  97   2 136   0   0   0   0   0   0   0  32 205 253 251 126\n",
            "   93   2  40 240   0   0   0   0   0   0]\n",
            " [  0   0   0  97   2 189   0   0   0   0   0   0   0 104 251 239  98  93\n",
            "    8   2 165   0   0   0   0   0   0   0]\n",
            " [  0   0   0  97   2 171   0   0   0 209 207 140 192  90  10 206  45  77\n",
            "   15   4 216   0   0   0   0   0   0   0]\n",
            " [  0   0   0 106   3  19  49  49  49   3   2  38  13  55 110  68 228 251\n",
            "   23   6   0   0   0   0   0   0   0   0]\n",
            " [  0   0   0   0 137  79  79  79  79  79 158  95 251 251 251  39   0 154\n",
            "    2  36   0   0   0   0   0   0   0   0]\n",
            " [  0   0   0   0   0   0   0   0   0   0  48 221 251 251 172   0   0  87\n",
            "    2 119   0   0   0   0   0   0   0   0]\n",
            " [  0   0   0   0   0   0   0   0   0   0 234 251 251 196  12   0   0  87\n",
            "    2 199   0   0   0   0   0   0   0   0]\n",
            " [  0   0   0   0   0   0   0   0   0   0 253 251 251  89   0   0   0  87\n",
            "    2 199   0   0   0   0   0   0   0   0]\n",
            " [  0   0   0   0   0   0   0   0   0 159 255 253 253  31   0   0   0  87\n",
            "    1 162   0   0   0   0   0   0   0   0]\n",
            " [  0   0   0   0   0   0   0   0  48 228 253 247 140   8   0   0   0  87\n",
            "    2 160   0   0   0   0   0   0   0   0]\n",
            " [  0   0   0   0   0   0   0   0  64 251 253 220   0   0   0   0   0  87\n",
            "    2 103   0   0   0   0   0   0   0   0]\n",
            " [  0   0   0   0   0   0   0   0  64 251 253 220   0   0   0   0   0  87\n",
            "    1 103   0   0   0   0   0   0   0   0]\n",
            " [  0   0   0   0   0   0   0   0  24 193 253 220   0   0   0   0   0 160\n",
            "    2 103   0   0   0   0   0   0   0   0]\n",
            " [  0   0   0   0   0   0   0   0   0   0   0   0   0   0   0   0   0   0\n",
            "    0   0   0   0   0   0   0   0   0   0]\n",
            " [  0   0   0   0   0   0   0   0   0   0   0   0   0   0   0   0   0   0\n",
            "    0   0   0   0   0   0   0   0   0   0]\n",
            " [  0   0   0   0   0   0   0   0   0   0   0   0   0   0   0   0   0   0\n",
            "    0   0   0   0   0   0   0   0   0   0]]\n"
          ]
        },
        {
          "output_type": "display_data",
          "data": {
            "text/plain": [
              "<Figure size 1000x800 with 4 Axes>"
            ],
            "image/png": "[encoded data removed]"
          },
          "metadata": {}
        }
      ]
    },
    {
      "cell_type": "code",
      "source": [
        "# Matrix Multiplication\n",
        "A = np.array([[1, 2, 4], [3, 4, 6]])\n",
        "print(\"Number of columns of A=\",A.shape[1])\n",
        "B = np.array([[5, 6], [7, 8],[1,3]])\n",
        "print(\"Number of Rows of B=\",B.shape[0])\n",
        "result = np.dot(A, B)\n",
        "print(result)"
      ],
      "metadata": {
        "colab": {
          "base_uri": "https://localhost:8080/"
        },
        "id": "RzAfEfy39VS_",
        "outputId": "51aed2ab-2943-49a2-c479-7ee2a8aedc29"
      },
      "execution_count": null,
      "outputs": [
        {
          "output_type": "stream",
          "name": "stdout",
          "text": [
            "Number of columns of A= 3\n",
            "Number of Rows of B= 3\n",
            "[[23 34]\n",
            " [49 68]]\n"
          ]
        }
      ]
    },
    {
      "cell_type": "code",
      "source": [
        "A = np.array([[1, 2, 4], [3, 4, 6]])\n",
        "print(\"Number of Rows of A=\",A.shape[1])\n",
        "B = np.array([[5, 6], [7, 8],[1,3]])\n",
        "print(\"Number of Columns of B=\",B.shape[0])\n",
        "result = np.dot(B, A)\n",
        "print(result)"
      ],
      "metadata": {
        "colab": {
          "base_uri": "https://localhost:8080/"
        },
        "id": "8BvqOYbJ-Dof",
        "outputId": "c7e3c52a-f13c-461f-d11e-46b74fa105c0"
      },
      "execution_count": null,
      "outputs": [
        {
          "output_type": "stream",
          "name": "stdout",
          "text": [
            "Number of Rows of A= 3\n",
            "Number of Columns of B= 3\n",
            "[[23 34 56]\n",
            " [31 46 76]\n",
            " [10 14 22]]\n"
          ]
        }
      ]
    },
    {
      "cell_type": "code",
      "source": [
        "# Define 3*3 matrix and multiply with 3*3 identity matrix\n",
        "import numpy as np\n",
        "A = np.array([[1,2,3],[4,5,6],[7,8,9]])\n",
        "#I3 = np.array([[1,0,0],[0,1,0],[0,0,1]])\n",
        "I3=np.eye(3)\n",
        "AintoI3= np.dot(A,I3)\n",
        "print(AintoI3)"
      ],
      "metadata": {
        "colab": {
          "base_uri": "https://localhost:8080/"
        },
        "id": "bFg2MUm6-Wao",
        "outputId": "866d113b-d899-4bae-e9df-761e08442068"
      },
      "execution_count": null,
      "outputs": [
        {
          "output_type": "stream",
          "name": "stdout",
          "text": [
            "[[1. 2. 3.]\n",
            " [4. 5. 6.]\n",
            " [7. 8. 9.]]\n"
          ]
        }
      ]
    },
    {
      "cell_type": "code",
      "source": [
        "Asquare= np.dot(A,A)\n",
        "print(Asquare)"
      ],
      "metadata": {
        "colab": {
          "base_uri": "https://localhost:8080/"
        },
        "id": "609mRC---uCm",
        "outputId": "ebeaada3-6f75-4ac4-cf52-9a3363d1b575"
      },
      "execution_count": null,
      "outputs": [
        {
          "output_type": "stream",
          "name": "stdout",
          "text": [
            "[[ 30  36  42]\n",
            " [ 66  81  96]\n",
            " [102 126 150]]\n"
          ]
        }
      ]
    },
    {
      "cell_type": "code",
      "source": [
        "Acube=-np.dot(A,Asquare)\n",
        "print(Acube)"
      ],
      "metadata": {
        "colab": {
          "base_uri": "https://localhost:8080/"
        },
        "id": "FyGdyexm-yYv",
        "outputId": "bfa4f44c-3361-4a38-8b38-c9a4eacc370b"
      },
      "execution_count": null,
      "outputs": [
        {
          "output_type": "stream",
          "name": "stdout",
          "text": [
            "[[ -468  -576  -684]\n",
            " [-1062 -1305 -1548]\n",
            " [-1656 -2034 -2412]]\n"
          ]
        }
      ]
    },
    {
      "cell_type": "markdown",
      "source": [
        "#----------------------------------------"
      ],
      "metadata": {
        "id": "UMg5mmUw_yih"
      }
    },
    {
      "cell_type": "markdown",
      "source": [
        "<span style=\"color:yellow; font-size:34px;\">\n",
        "$$(I * K)(i, j) = \\sum_{m=0}^1 \\sum_{n=0}^1 \\left[ I(i + m, j + n) \\times K(m, n) \\right]$$\n",
        "</span>\n"
      ],
      "metadata": {
        "id": "RXHSux8F_urn"
      }
    },
    {
      "cell_type": "markdown",
      "source": [
        "#----------------------------------------"
      ],
      "metadata": {
        "id": "2S_wMb3UAMKK"
      }
    },
    {
      "cell_type": "code",
      "source": [
        "import numpy as np\n",
        "\n",
        "def convolution_2d(input_matrix, kernel):\n",
        "    \"\"\"\n",
        "    Perform 2D convolution based on the given formula.\n",
        "\n",
        "    Args:\n",
        "        input_matrix (numpy.ndarray): Input matrix I.\n",
        "        kernel (numpy.ndarray): Kernel matrix K.\n",
        "\n",
        "    Returns:\n",
        "        numpy.ndarray: Resultant matrix after convolution.\n",
        "    \"\"\"\n",
        "    # Get dimensions of input and kernel\n",
        "    input_rows, input_cols = input_matrix.shape\n",
        "    kernel_rows, kernel_cols = kernel.shape\n",
        "\n",
        "    # Determine output dimensions\n",
        "    output_rows = input_rows - kernel_rows + 1 # m-k+1\n",
        "    output_cols = input_cols - kernel_cols + 1 # n-k+1\n",
        "\n",
        "    # Initialize output matrix\n",
        "    output_matrix = np.zeros((output_rows, output_cols))\n",
        "\n",
        "    # Perform convolution\n",
        "    for i in range(output_rows):\n",
        "        for j in range(output_cols):\n",
        "            summation = 0\n",
        "            for m in range(kernel_rows):\n",
        "                for n in range(kernel_cols):\n",
        "                    summation += input_matrix[i + m, j + n] * kernel[m, n]\n",
        "            output_matrix[i, j] = summation\n",
        "\n",
        "    return output_matrix\n",
        "\n",
        "# Example matrices\n",
        "input_matrix = np.array([[1, 2, 3],\n",
        "                         [4, 5, 6],\n",
        "                         [7, 8, 9]])\n",
        "\n",
        "kernel = np.array([[1, 0],\n",
        "                   [0, -1]])\n",
        "\n",
        "# Perform convolution\n",
        "result = convolution_2d(input_matrix, kernel)\n",
        "\n",
        "# Print results\n",
        "print(\"Input Matrix:\")\n",
        "print(input_matrix)\n",
        "print(\"\\nKernel:\")\n",
        "print(kernel)\n",
        "print(\"\\nConvolved Matrix:\")\n",
        "print(result)\n"
      ],
      "metadata": {
        "colab": {
          "base_uri": "https://localhost:8080/"
        },
        "id": "CR_5pl1j3ruy",
        "outputId": "12525f9b-b611-41e3-980e-411502334342"
      },
      "execution_count": null,
      "outputs": [
        {
          "output_type": "stream",
          "name": "stdout",
          "text": [
            "Input Matrix:\n",
            "[[1 2 3]\n",
            " [4 5 6]\n",
            " [7 8 9]]\n",
            "\n",
            "Kernel:\n",
            "[[ 1  0]\n",
            " [ 0 -1]]\n",
            "\n",
            "Convolved Matrix:\n",
            "[[-4. -4.]\n",
            " [-4. -4.]]\n"
          ]
        }
      ]
    },
    {
      "cell_type": "code",
      "source": [
        "import numpy as np\n",
        "import matplotlib.pyplot as plt\n",
        "from tensorflow.keras.datasets import mnist\n",
        "\n",
        "def convolution_2d(input_matrix, kernel):\n",
        "    \"\"\"\n",
        "    Perform 2D convolution based on the given formula.\n",
        "\n",
        "    Args:\n",
        "        input_matrix (numpy.ndarray): Input matrix I.\n",
        "        kernel (numpy.ndarray): Kernel matrix K.\n",
        "\n",
        "    Returns:\n",
        "        numpy.ndarray: Resultant matrix after convolution.\n",
        "    \"\"\"\n",
        "    # Get dimensions of input and kernel\n",
        "    input_rows, input_cols = input_matrix.shape\n",
        "    kernel_rows, kernel_cols = kernel.shape\n",
        "\n",
        "    # Determine output dimensions\n",
        "    output_rows = input_rows - kernel_rows + 1 # m-k+1\n",
        "    output_cols = input_cols - kernel_cols + 1 # n-k+1\n",
        "\n",
        "    # Initialize output matrix\n",
        "    output_matrix = np.zeros((output_rows, output_cols))\n",
        "\n",
        "    # Perform convolution\n",
        "    for i in range(output_rows):\n",
        "        for j in range(output_cols):\n",
        "            summation = 0\n",
        "            for m in range(kernel_rows):\n",
        "                for n in range(kernel_cols):\n",
        "                    summation += input_matrix[i + m, j + n] * kernel[m, n]\n",
        "            output_matrix[i, j] = summation\n",
        "\n",
        "    return output_matrix\n",
        "\n",
        "# Load MNIST data\n",
        "(x_train, y_train), (_, _) = mnist.load_data()\n",
        "\n",
        "# Extract one image of '2'\n",
        "two_image = x_train[y_train == 2][0]  # First '2' image\n",
        "\n",
        "# Vertical edge detector kernel\n",
        "vertical_edge_kernel = np.array([[-1, -2, -1],\n",
        "                                  [0, 0, 0],\n",
        "                                  [1, 2, 1]])\n",
        "\n",
        "# Perform convolution\n",
        "convolved_result = convolution_2d(two_image, vertical_edge_kernel)\n",
        "\n",
        "# Show original image and result\n",
        "plt.figure(figsize=(10, 5))\n",
        "\n",
        "# Original image\n",
        "plt.subplot(1, 2, 1)\n",
        "plt.title(\"Original Image (2)\")\n",
        "plt.imshow(two_image, cmap=\"gray\")\n",
        "plt.axis(\"off\")\n",
        "\n",
        "# Convolved result\n",
        "plt.subplot(1, 2, 2)\n",
        "plt.title(\"Vertical Edge Detection\")\n",
        "plt.imshow(convolved_result, cmap=\"gray\")\n",
        "plt.axis(\"off\")\n",
        "\n",
        "plt.tight_layout()\n",
        "plt.show()\n"
      ],
      "metadata": {
        "colab": {
          "base_uri": "https://localhost:8080/",
          "height": 351
        },
        "id": "9cJYDEan3Y-G",
        "outputId": "2547866c-ac75-4c7c-9dfa-3ada986c5534"
      },
      "execution_count": null,
      "outputs": [
        {
          "output_type": "display_data",
          "data": {
            "text/plain": [
              "<Figure size 1000x500 with 2 Axes>"
            ],
            "image/png": "[encoded data removed]"
          },
          "metadata": {}
        }
      ]
    },
    {
      "cell_type": "code",
      "source": [
        "import numpy as np\n",
        "\n",
        "def calculate_minor(matrix, i, j):\n",
        "    \"\"\"\n",
        "    Calculate the minor of an element in the matrix.\n",
        "\n",
        "    Args:\n",
        "        matrix (numpy.ndarray): Input matrix.\n",
        "        i (int): Row index of the element.\n",
        "        j (int): Column index of the element.\n",
        "\n",
        "    Returns:\n",
        "        float: Minor of the element.\n",
        "    \"\"\"\n",
        "    minor_matrix = np.delete(np.delete(matrix, i, axis=0), j, axis=1)\n",
        "    return np.linalg.det(minor_matrix)\n",
        "\n",
        "def calculate_cofactor_matrix(matrix):\n",
        "    \"\"\"\n",
        "    Calculate the cofactor matrix of a given matrix.\n",
        "\n",
        "    Args:\n",
        "        matrix (numpy.ndarray): Input matrix.\n",
        "\n",
        "    Returns:\n",
        "        numpy.ndarray: Cofactor matrix.\n",
        "    \"\"\"\n",
        "    rows, cols = matrix.shape\n",
        "    cofactor_matrix = np.zeros((rows, cols))\n",
        "\n",
        "    for i in range(rows):\n",
        "        for j in range(cols):\n",
        "            minor = calculate_minor(matrix, i, j)\n",
        "            cofactor_matrix[i, j] = ((-1) ** (i + j)) * minor\n",
        "\n",
        "    return cofactor_matrix\n",
        "\n",
        "def print_matrix(name, matrix):\n",
        "    \"\"\"\n",
        "    Print a matrix with a title.\n",
        "\n",
        "    Args:\n",
        "        name (str): Name of the matrix.\n",
        "        matrix (numpy.ndarray): The matrix to print.\n",
        "    \"\"\"\n",
        "    print(f\"\\n{name}:\")\n",
        "    print(matrix)\n",
        "\n",
        "# Input matrix\n",
        "A = np.array([[2, -1, 0],\n",
        "              [-1, 2, -1],\n",
        "              [0, -1, 2]])\n",
        "\n",
        "# Check if determinant is zero\n",
        "det = np.linalg.det(A)\n",
        "print(f\"Determinant of A: {det}\")\n",
        "\n",
        "if np.isclose(det, 0):\n",
        "    print(\"Inverse does not exist because determinant is 0.\")\n",
        "else:\n",
        "    # Compute cofactor matrix\n",
        "    cofactor_matrix = calculate_cofactor_matrix(A)\n",
        "    print_matrix(\"Cofactor Matrix\", cofactor_matrix)\n",
        "\n",
        "    # Compute adjoint matrix (transpose of cofactor matrix)\n",
        "    adjoint_matrix = cofactor_matrix.T\n",
        "    print_matrix(\"Adjoint Matrix\", adjoint_matrix)\n",
        "\n",
        "    # Compute inverse matrix\n",
        "    inverse_matrix = adjoint_matrix / det\n",
        "    print_matrix(\"Inverse Matrix\", inverse_matrix)\n"
      ],
      "metadata": {
        "colab": {
          "base_uri": "https://localhost:8080/"
        },
        "id": "jQh2lEPAOBNG",
        "outputId": "be48cabc-bdc3-4392-e434-e323f9ba1bca"
      },
      "execution_count": null,
      "outputs": [
        {
          "output_type": "stream",
          "name": "stdout",
          "text": [
            "Determinant of A: 4.0\n",
            "\n",
            "Cofactor Matrix:\n",
            "[[3. 2. 1.]\n",
            " [2. 4. 2.]\n",
            " [1. 2. 3.]]\n",
            "\n",
            "Adjoint Matrix:\n",
            "[[3. 2. 1.]\n",
            " [2. 4. 2.]\n",
            " [1. 2. 3.]]\n",
            "\n",
            "Inverse Matrix:\n",
            "[[0.75 0.5  0.25]\n",
            " [0.5  1.   0.5 ]\n",
            " [0.25 0.5  0.75]]\n"
          ]
        }
      ]
    },
    {
      "cell_type": "code",
      "source": [
        "import numpy as np\n",
        "\n",
        "# Define a matrix\n",
        "A = np.array([[2, -1, 0],\n",
        "              [-1, 2, -1],\n",
        "              [0, -1, 2]])\n",
        "\n",
        "# Compute the determinant\n",
        "det = np.linalg.det(A)\n",
        "print(f\"Determinant: {det}\")\n",
        "\n",
        "# Check if the matrix is invertible\n",
        "if not np.isclose(det, 0):\n",
        "    # Compute the inverse\n",
        "    inverse_matrix = np.linalg.inv(A)\n",
        "    print(\"Inverse Matrix:\")\n",
        "    print(inverse_matrix)\n",
        "else:\n",
        "    print(\"Inverse does not exist because the determinant is 0.\")\n"
      ],
      "metadata": {
        "id": "imB7f8oTPgbh"
      },
      "execution_count": null,
      "outputs": []
    },
    {
      "cell_type": "code",
      "source": [
        "A= np.array([[1,2,1],[2,-1,0],[0,3,1]])\n",
        "inv_A = np.array([[-1,1,1],[-2,1,2],[6,-3,-5]])\n",
        "np.dot(A,inv_A)"
      ],
      "metadata": {
        "colab": {
          "base_uri": "https://localhost:8080/"
        },
        "id": "XEN02uhiPoKy",
        "outputId": "da15bc6c-a15f-48e1-a429-72c49b208515"
      },
      "execution_count": null,
      "outputs": [
        {
          "output_type": "execute_result",
          "data": {
            "text/plain": [
              "array([[1, 0, 0],\n",
              "       [0, 1, 0],\n",
              "       [0, 0, 1]])"
            ]
          },
          "metadata": {},
          "execution_count": 6
        }
      ]
    },
    {
      "cell_type": "code",
      "source": [
        "inv_A= np.linalg.inv(A)\n",
        "print(inv_A)\n",
        "#np.round(np.dot(A,inv_A),2)\n",
        "np.dot(A,inv_A)"
      ],
      "metadata": {
        "colab": {
          "base_uri": "https://localhost:8080/"
        },
        "id": "sjcrQS6_QLV_",
        "outputId": "f4f6dfc2-07e9-4751-a92b-3d75da42d42d"
      },
      "execution_count": null,
      "outputs": [
        {
          "output_type": "stream",
          "name": "stdout",
          "text": [
            "[[-1.  1.  1.]\n",
            " [-2.  1.  2.]\n",
            " [ 6. -3. -5.]]\n"
          ]
        },
        {
          "output_type": "execute_result",
          "data": {
            "text/plain": [
              "array([[1.0000000e+00, 4.4408921e-16, 8.8817842e-16],\n",
              "       [0.0000000e+00, 1.0000000e+00, 0.0000000e+00],\n",
              "       [0.0000000e+00, 0.0000000e+00, 1.0000000e+00]])"
            ]
          },
          "metadata": {},
          "execution_count": 10
        }
      ]
    },
    {
      "cell_type": "code",
      "source": [
        "import numpy as np\n",
        "\n",
        "# Define the matrix\n",
        "Q = np.array([[3/np.sqrt(11), -1/np.sqrt(6), -1/np.sqrt(66)],\n",
        "              [1/np.sqrt(11), 2/np.sqrt(6), -4/np.sqrt(66)],\n",
        "              [1/np.sqrt(11), 1/np.sqrt(6), 7/np.sqrt(66)]])\n",
        "\n",
        "# Compute Q^T * Q\n",
        "Q_T_Q = np.dot(Q.T, Q)\n",
        "\n",
        "# Define the identity matrix of the same size\n",
        "I = np.eye(Q.shape[0])\n",
        "\n",
        "# Check if Q^T * Q is close to the identity matrix\n",
        "is_orthogonal = np.allclose(Q_T_Q, I)\n",
        "\n",
        "# Print results\n",
        "print(\"Q^T * Q:\\n\", Q_T_Q)\n",
        "print(\"\\nIs the matrix orthogonal?\", is_orthogonal)\n"
      ],
      "metadata": {
        "colab": {
          "base_uri": "https://localhost:8080/"
        },
        "id": "T0xKAS4sl3r4",
        "outputId": "0d30638e-68a6-4ad5-f5f2-603878708045"
      },
      "execution_count": null,
      "outputs": [
        {
          "output_type": "stream",
          "name": "stdout",
          "text": [
            "Q^T * Q:\n",
            " [[1.00000000e+00 7.68155897e-19 3.00799601e-17]\n",
            " [7.68155897e-19 1.00000000e+00 2.69677331e-17]\n",
            " [3.00799601e-17 2.69677331e-17 1.00000000e+00]]\n",
            "\n",
            "Is the matrix orthogonal? True\n"
          ]
        }
      ]
    },
    {
      "cell_type": "markdown",
      "source": [
        "The given system of equations is:\n",
        "\n",
        "$x_1 + x_2 + x_3 + x_4 = 10$\n",
        "\n",
        "$2x_1 - x_2 + 3x_3 - x_4 = 5$\n",
        "\n",
        "$-x_1 + 4x_2 = 15$\n",
        "\n",
        "$3x_1 - x_2 - x_3 + 4x_4 = 20$\n",
        "\n",
        "We can represent the system in matrix form $A \\cdot X = B$, where:\n",
        "\n",
        "$A = \\begin{bmatrix}\n",
        "1 & 1 & 1 & 1 \\\\\n",
        "2 & -1 & 3 & -1 \\\\\n",
        "-1 & 4 & 0 & 0 \\\\\n",
        "3 & -1 & -1 & 4\n",
        "\\end{bmatrix}$,  \n",
        "\n",
        "$B = \\begin{bmatrix}\n",
        "10 \\\\\n",
        "5 \\\\\n",
        "15 \\\\\n",
        "20\n",
        "\\end{bmatrix}$\n",
        "\n",
        "Using `numpy.linalg.solve`, the solution $X$ is calculated as:\n",
        "\n",
        "$X = A^{-1} \\cdot B = \\begin{bmatrix}\n",
        "x_1 \\\\\n",
        "x_2 \\\\\n",
        "x_3 \\\\\n",
        "x_4\n",
        "\\end{bmatrix}$\n",
        "\n",
        "The solution is:\n",
        "\n",
        "$X = \\begin{bmatrix}\n",
        "x_1 \\\\\n",
        "x_2 \\\\\n",
        "x_3 \\\\\n",
        "x_4\n",
        "\\end{bmatrix} = \\text{np.linalg.solve(A, B)}$\n"
      ],
      "metadata": {
        "id": "yLdesD7vqHGe"
      }
    },
    {
      "cell_type": "code",
      "source": [
        "import numpy as np\n",
        "\n",
        "# Coefficient matrix A\n",
        "A = np.array([[1, 1, 1, 1],\n",
        "              [2, -1, 3, -1],\n",
        "              [-1, 4, 0, 0],\n",
        "              [3, -1, -1, 4]])\n",
        "\n",
        "# Right-hand side vector B\n",
        "B = np.array([10, 5, 15, 20])\n",
        "\n",
        "# Solve the system of equations\n",
        "X = np.linalg.solve(A, B)\n",
        "\n",
        "# Print the solution\n",
        "print(\"Solution (x1, x2, x3, x4):\", X)\n"
      ],
      "metadata": {
        "colab": {
          "base_uri": "https://localhost:8080/"
        },
        "id": "k-k-mbN6p2jn",
        "outputId": "60857dd0-8485-4105-c8b9-a46a59b4c362"
      },
      "execution_count": null,
      "outputs": [
        {
          "output_type": "stream",
          "name": "stdout",
          "text": [
            "Solution (x1, x2, x3, x4): [11.66666667  6.66666667 -5.         -3.33333333]\n"
          ]
        }
      ]
    },
    {
      "cell_type": "code",
      "source": [
        "from sympy import symbols, Eq, solve, Matrix , N\n",
        "\n",
        "# Define symbols for the variables\n",
        "x1, x2, x3, x4 = symbols('x1 x2 x3 x4')\n",
        "\n",
        "# Define the equations\n",
        "eq1 = Eq(x1 + x2 + x3 + x4, 10)\n",
        "eq2 = Eq(2*x1 - x2 + 3*x3 - x4, 5)\n",
        "eq3 = Eq(-x1 + 4*x2, 15)\n",
        "eq4 = Eq(3*x1 - x2 - x3 + 4*x4, 20)\n",
        "\n",
        "# Solve the system of equations\n",
        "solution = solve([eq1, eq2, eq3, eq4], (x1, x2, x3, x4))\n",
        "\n",
        "# Print the solution\n",
        "print(\"Solution:\")\n",
        "print(solution)\n"
      ],
      "metadata": {
        "colab": {
          "base_uri": "https://localhost:8080/"
        },
        "id": "knhwTTQdrInf",
        "outputId": "960ffa76-43f6-426b-9c94-d64450de9fb7"
      },
      "execution_count": null,
      "outputs": [
        {
          "output_type": "stream",
          "name": "stdout",
          "text": [
            "Solution:\n",
            "{x1: 35/3, x2: 20/3, x3: -5, x4: -10/3}\n"
          ]
        }
      ]
    },
    {
      "cell_type": "code",
      "source": [
        "# Convert the solution to decimal format\n",
        "decimal_solution = {var: N(value) for var, value in solution.items()}\n",
        "\n",
        "# Print the solution in decimal format\n",
        "print(\"Solution in decimal format:\")\n",
        "print(decimal_solution)"
      ],
      "metadata": {
        "colab": {
          "base_uri": "https://localhost:8080/"
        },
        "id": "6-ezFNIqrj9w",
        "outputId": "06d6ddd2-f205-4f87-948c-971b0e40a47c"
      },
      "execution_count": null,
      "outputs": [
        {
          "output_type": "stream",
          "name": "stdout",
          "text": [
            "Solution in decimal format:\n",
            "{x1: 11.6666666666667, x2: 6.66666666666667, x3: -5.00000000000000, x4: -3.33333333333333}\n"
          ]
        }
      ]
    },
    {
      "cell_type": "code",
      "source": [
        "import numpy as np\n",
        "\n",
        "def cramers_rule(coeff_matrix, const_vector):\n",
        "    \"\"\"\n",
        "    Solve a system of linear equations using Cramer's Rule.\n",
        "\n",
        "    Args:\n",
        "        coeff_matrix (numpy.ndarray): Coefficient matrix (3x3).\n",
        "        const_vector (numpy.ndarray): Constant vector (3x1).\n",
        "\n",
        "    Returns:\n",
        "        numpy.ndarray: Solution vector (x1, x2, x3).\n",
        "    \"\"\"\n",
        "    det_main = np.linalg.det(coeff_matrix)\n",
        "    if np.isclose(det_main, 0):\n",
        "        raise ValueError(\"The determinant of the coefficient matrix is 0. The system has no unique solution.\")\n",
        "\n",
        "    solutions = []\n",
        "    for i in range(len(const_vector)):\n",
        "        modified_matrix = coeff_matrix.copy()\n",
        "        modified_matrix[:, i] = const_vector\n",
        "        det_modified = np.linalg.det(modified_matrix)\n",
        "        solutions.append(det_modified / det_main)\n",
        "\n",
        "    return np.array(solutions)\n",
        "\n",
        "# Define the coefficient matrix and constant vector\n",
        "A = np.array([[2, -1, 3],\n",
        "              [1, 1, 1],\n",
        "              [1, -1, 2]])\n",
        "\n",
        "B = np.array([5, 10, 7])\n",
        "\n",
        "# Solve using Cramer's Rule\n",
        "try:\n",
        "    solution = cramers_rule(A, B)\n",
        "    print(\"Solution (x1, x2, x3):\", solution)\n",
        "except ValueError as e:\n",
        "    print(e)\n"
      ],
      "metadata": {
        "colab": {
          "base_uri": "https://localhost:8080/"
        },
        "id": "ES8DX2EkwvdX",
        "outputId": "a480f848-f134-4162-dbc1-8a9cd7e9f928"
      },
      "execution_count": null,
      "outputs": [
        {
          "output_type": "stream",
          "name": "stdout",
          "text": [
            "Solution (x1, x2, x3): [-23.  12.  21.]\n"
          ]
        }
      ]
    },
    {
      "cell_type": "code",
      "source": [
        "import numpy as np\n",
        "\n",
        "# Define the matrix\n",
        "matrix = np.array([[9, 4],\n",
        "                   [4, 3]])\n",
        "\n",
        "# Compute eigenvalues and eigenvectors\n",
        "eigenvalues, eigenvectors = np.linalg.eig(matrix)\n",
        "\n",
        "# Print the results\n",
        "print(\"Eigenvalues:\")\n",
        "print(eigenvalues)\n",
        "\n",
        "print(\"\\nEigenvectors:\")\n",
        "print(np.round(eigenvectors,2))\n"
      ],
      "metadata": {
        "colab": {
          "base_uri": "https://localhost:8080/"
        },
        "id": "atO45veF9q0R",
        "outputId": "965ee00a-a0b8-47a2-fc11-336f34f6c577"
      },
      "execution_count": null,
      "outputs": [
        {
          "output_type": "stream",
          "name": "stdout",
          "text": [
            "Eigenvalues:\n",
            "[11.  1.]\n",
            "\n",
            "Eigenvectors:\n",
            "[[ 0.89 -0.45]\n",
            " [ 0.45  0.89]]\n"
          ]
        }
      ]
    },
    {
      "cell_type": "code",
      "source": [
        "import numpy as np\n",
        "\n",
        "# Define the matrix\n",
        "matrix = np.array([[9, 4],\n",
        "                   [4, 3]])\n",
        "\n",
        "# Compute eigenvalues and eigenvectors\n",
        "eigenvalues, eigenvectors = np.linalg.eig(matrix)\n",
        "\n",
        "# Print the results in a descriptive format\n",
        "for i, eigenvalue in enumerate(eigenvalues):\n",
        "    print(f\"The eigenvector corresponding to the eigenvalue {eigenvalue:.2f} is:\")\n",
        "    print(eigenvectors[:, i])\n",
        "    print()\n"
      ],
      "metadata": {
        "colab": {
          "base_uri": "https://localhost:8080/"
        },
        "id": "BA8lg4ST95ua",
        "outputId": "cf0f5035-e315-497a-b586-8a19a81edaf3"
      },
      "execution_count": null,
      "outputs": [
        {
          "output_type": "stream",
          "name": "stdout",
          "text": [
            "The eigenvector corresponding to the eigenvalue 11.00 is:\n",
            "[0.89442719 0.4472136 ]\n",
            "\n",
            "The eigenvector corresponding to the eigenvalue 1.00 is:\n",
            "[-0.4472136   0.89442719]\n",
            "\n"
          ]
        }
      ]
    },
    {
      "cell_type": "code",
      "source": [
        "import numpy as np\n",
        "\n",
        "# Define the matrix\n",
        "matrix = np.array([[9, 4],\n",
        "                   [4, 3]])\n",
        "\n",
        "# Compute eigenvalues and eigenvectors\n",
        "eigenvalues, eigenvectors = np.linalg.eig(matrix)\n",
        "\n",
        "# Print the results in a descriptive format\n",
        "for i, eigenvalue in enumerate(eigenvalues):\n",
        "    eigenvector = eigenvectors[:, i]\n",
        "    norm = np.linalg.norm(eigenvector)\n",
        "    print(f\"The eigenvector corresponding to the eigenvalue {eigenvalue:.2f} is:\")\n",
        "    print(eigenvector)\n",
        "    print(f\"Norm of this eigenvector: {norm:.2f}\\n\")\n"
      ],
      "metadata": {
        "colab": {
          "base_uri": "https://localhost:8080/"
        },
        "id": "I9F2r2rs-04D",
        "outputId": "99e64b9b-edf2-4607-b414-ad416b6ed700"
      },
      "execution_count": null,
      "outputs": [
        {
          "output_type": "stream",
          "name": "stdout",
          "text": [
            "The eigenvector corresponding to the eigenvalue 11.00 is:\n",
            "[0.89442719 0.4472136 ]\n",
            "Norm of this eigenvector: 1.00\n",
            "\n",
            "The eigenvector corresponding to the eigenvalue 1.00 is:\n",
            "[-0.4472136   0.89442719]\n",
            "Norm of this eigenvector: 1.00\n",
            "\n"
          ]
        }
      ]
    },
    {
      "cell_type": "code",
      "source": [
        "import numpy as np\n",
        "\n",
        "# Define the matrix\n",
        "matrix = np.array([[4, 6, 10],\n",
        "                   [3, 10, 13],\n",
        "                   [-2, -6, -8]])\n",
        "print(np.linalg.det(matrix))\n",
        "# Compute eigenvalues and eigenvectors\n",
        "eigenvalues, eigenvectors = np.linalg.eig(matrix)\n",
        "\n",
        "# Print the results in a descriptive format\n",
        "for i, eigenvalue in enumerate(eigenvalues):\n",
        "    eigenvector = eigenvectors[:, i]\n",
        "    norm = np.linalg.norm(eigenvector)\n",
        "    print(f\"The eigenvector corresponding to the eigenvalue {eigenvalue:.2f} is:\")\n",
        "    print(eigenvector)\n",
        "    print(f\"Norm of this eigenvector: {norm:.2f}\\n\")\n"
      ],
      "metadata": {
        "colab": {
          "base_uri": "https://localhost:8080/"
        },
        "id": "d_ON1Bz3_ydR",
        "outputId": "73127b70-8a0d-45b2-c185-be0b4eb65f55"
      },
      "execution_count": null,
      "outputs": [
        {
          "output_type": "stream",
          "name": "stdout",
          "text": [
            "0.0\n",
            "The eigenvector corresponding to the eigenvalue 4.00 is:\n",
            "[ 0.45749571  0.76249285 -0.45749571]\n",
            "Norm of this eigenvector: 1.00\n",
            "\n",
            "The eigenvector corresponding to the eigenvalue 2.00 is:\n",
            "[ 0.40824829 -0.81649658  0.40824829]\n",
            "Norm of this eigenvector: 1.00\n",
            "\n",
            "The eigenvector corresponding to the eigenvalue -0.00 is:\n",
            "[-0.57735027 -0.57735027  0.57735027]\n",
            "Norm of this eigenvector: 1.00\n",
            "\n"
          ]
        }
      ]
    }
  ]
}