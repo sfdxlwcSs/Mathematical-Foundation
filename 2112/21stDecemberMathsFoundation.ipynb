{
 "cells": [
  {
   "cell_type": "code",
   "execution_count": 6,
   "id": "56661029-91e5-4f46-b635-91422341304f",
   "metadata": {},
   "outputs": [],
   "source": [
    "#Gram Smith Process\n",
    "import numpy as np\n",
    "u1=np.array([2,0,0])\n",
    "u2=np.array([2,3,4])\n",
    "u3=np.array([4,5,5])\n",
    "w1=u1\n",
    "v1=w1/np.linalg.norm(w1)\n",
    "w2=u2-np.dot(u2,v1)*v1\n",
    "v2=w2/np.linalg.norm(w2)\n",
    "w3=u3-np.dot(u3,v1)*v1-np.dot(u3,v2)*v2\n",
    "v3=w3/np.linalg.norm(w3)\n"
   ]
  },
  {
   "cell_type": "code",
   "execution_count": 4,
   "id": "6b70e2e2-5765-4c19-a4e5-6d17e35f5ac6",
   "metadata": {},
   "outputs": [
    {
     "data": {
      "text/plain": [
       "(array([1., 0., 0.]), array([0. , 0.6, 0.8]), array([ 0. ,  0.8, -0.6]))"
      ]
     },
     "execution_count": 4,
     "metadata": {},
     "output_type": "execute_result"
    }
   ],
   "source": [
    "v1,v2,v3"
   ]
  },
  {
   "cell_type": "code",
   "execution_count": 8,
   "id": "d606e2ba-c2ff-46b5-99b0-43c574ab8477",
   "metadata": {},
   "outputs": [],
   "source": [
    "matrixEx=np.array([[1,2],[3,4]])"
   ]
  },
  {
   "cell_type": "code",
   "execution_count": 10,
   "id": "d6c8f192-ee95-40cf-9ab5-d6f4bffaec22",
   "metadata": {},
   "outputs": [
    {
     "data": {
      "text/plain": [
       "array([[1, 2],\n",
       "       [3, 4]])"
      ]
     },
     "execution_count": 10,
     "metadata": {},
     "output_type": "execute_result"
    }
   ],
   "source": [
    "matrixEx"
   ]
  },
  {
   "cell_type": "code",
   "execution_count": 12,
   "id": "005d4556-3ab4-4ff1-8623-602c2e219185",
   "metadata": {},
   "outputs": [
    {
     "data": {
      "text/plain": [
       "array([[1, 3],\n",
       "       [2, 4]])"
      ]
     },
     "execution_count": 12,
     "metadata": {},
     "output_type": "execute_result"
    }
   ],
   "source": [
    "matrixEx.T #transpose of a matrix"
   ]
  },
  {
   "cell_type": "code",
   "execution_count": 14,
   "id": "28784278-2921-49b1-becd-002bfcb9abff",
   "metadata": {},
   "outputs": [
    {
     "data": {
      "text/plain": [
       "array([[1, 3],\n",
       "       [2, 4]])"
      ]
     },
     "execution_count": 14,
     "metadata": {},
     "output_type": "execute_result"
    }
   ],
   "source": [
    "np.transpose(matrixEx)"
   ]
  },
  {
   "cell_type": "code",
   "execution_count": 16,
   "id": "fa4bb28d-4192-48ba-9d24-cec77d716365",
   "metadata": {},
   "outputs": [
    {
     "data": {
      "text/plain": [
       "array([[1, 3],\n",
       "       [2, 4]])"
      ]
     },
     "execution_count": 16,
     "metadata": {},
     "output_type": "execute_result"
    }
   ],
   "source": [
    "matrixEx.transpose()"
   ]
  },
  {
   "cell_type": "code",
   "execution_count": 18,
   "id": "4cfaf6da-45b7-48c2-b884-aeebe02a8d10",
   "metadata": {},
   "outputs": [
    {
     "data": {
      "text/plain": [
       "array([[1, 2],\n",
       "       [3, 4]])"
      ]
     },
     "execution_count": 18,
     "metadata": {},
     "output_type": "execute_result"
    }
   ],
   "source": [
    "matrixEx.T.T\n"
   ]
  },
  {
   "cell_type": "code",
   "execution_count": 22,
   "id": "a7e39c2a-eaa1-46c3-a6fc-c287ce2c08d3",
   "metadata": {},
   "outputs": [
    {
     "data": {
      "text/plain": [
       "array([[1., 0., 0., 0.],\n",
       "       [0., 1., 0., 0.],\n",
       "       [0., 0., 1., 0.],\n",
       "       [0., 0., 0., 1.]])"
      ]
     },
     "execution_count": 22,
     "metadata": {},
     "output_type": "execute_result"
    }
   ],
   "source": [
    "np.eye(4)"
   ]
  },
  {
   "cell_type": "code",
   "execution_count": 24,
   "id": "8c4fdd33-1ce0-4f9b-ac9e-6565b92b3cb9",
   "metadata": {},
   "outputs": [
    {
     "data": {
      "text/plain": [
       "array([[1, 0, 0],\n",
       "       [0, 2, 0],\n",
       "       [0, 0, 3]])"
      ]
     },
     "execution_count": 24,
     "metadata": {},
     "output_type": "execute_result"
    }
   ],
   "source": [
    "np.diag([1,2,3])"
   ]
  },
  {
   "cell_type": "code",
   "execution_count": 28,
   "id": "b5f99f95-9e86-40cc-9d4c-cfc400c3966d",
   "metadata": {},
   "outputs": [
    {
     "data": {
      "text/plain": [
       "array([[1, 2, 3],\n",
       "       [3, 4, 6],\n",
       "       [3, 4, 6]])"
      ]
     },
     "execution_count": 28,
     "metadata": {},
     "output_type": "execute_result"
    }
   ],
   "source": [
    "matrixEx2=np.array([[1,2,3],[3,4,6],[3,4,6]])\n",
    "matrixEx2"
   ]
  },
  {
   "cell_type": "code",
   "execution_count": 42,
   "id": "7a9204db-f5ea-4aee-833f-fdb128899b23",
   "metadata": {},
   "outputs": [],
   "source": [
    "uppperTrianglur=np.triu(matrixEx2)"
   ]
  },
  {
   "cell_type": "code",
   "execution_count": 44,
   "id": "3606d6d9-8422-4dd5-8ddb-253449b65889",
   "metadata": {},
   "outputs": [
    {
     "data": {
      "text/plain": [
       "array([[1, 2, 3],\n",
       "       [0, 4, 6],\n",
       "       [0, 0, 6]])"
      ]
     },
     "execution_count": 44,
     "metadata": {},
     "output_type": "execute_result"
    }
   ],
   "source": [
    "uppperTrianglur"
   ]
  },
  {
   "cell_type": "code",
   "execution_count": 46,
   "id": "a0eca2c6-b61e-4262-9492-26e6edd01d6e",
   "metadata": {},
   "outputs": [],
   "source": [
    "lowerTrianglur=np.tril(matrixEx2)"
   ]
  },
  {
   "cell_type": "code",
   "execution_count": 48,
   "id": "42389bdf-6da9-424c-88df-4b008d9bf6ae",
   "metadata": {},
   "outputs": [
    {
     "data": {
      "text/plain": [
       "array([[1, 0, 0],\n",
       "       [3, 4, 0],\n",
       "       [3, 4, 6]])"
      ]
     },
     "execution_count": 48,
     "metadata": {},
     "output_type": "execute_result"
    }
   ],
   "source": [
    "lowerTrianglur"
   ]
  },
  {
   "cell_type": "code",
   "execution_count": 50,
   "id": "2072b083-e116-421f-946b-5f5a89567383",
   "metadata": {},
   "outputs": [
    {
     "data": {
      "text/plain": [
       "False"
      ]
     },
     "execution_count": 50,
     "metadata": {},
     "output_type": "execute_result"
    }
   ],
   "source": [
    "def is_symmetric(matrix):\n",
    "    return np.array_equal(matrix,matrix.T)\n",
    "is_symmetric(matrixEx2)"
   ]
  },
  {
   "cell_type": "code",
   "execution_count": 52,
   "id": "e4e8d6e5-199b-4454-9019-cac498580a93",
   "metadata": {},
   "outputs": [
    {
     "data": {
      "text/plain": [
       "array([[1, 2, 3],\n",
       "       [2, 4, 5],\n",
       "       [3, 5, 6]])"
      ]
     },
     "execution_count": 52,
     "metadata": {},
     "output_type": "execute_result"
    }
   ],
   "source": [
    "matrixSymmetric=np.array([[1,2,3],[2,4,5],[3,5,6]])\n",
    "matrixSymmetric"
   ]
  },
  {
   "cell_type": "code",
   "execution_count": 54,
   "id": "039ba231-5aac-4bc1-9290-8a0098022607",
   "metadata": {},
   "outputs": [
    {
     "data": {
      "text/plain": [
       "True"
      ]
     },
     "execution_count": 54,
     "metadata": {},
     "output_type": "execute_result"
    }
   ],
   "source": [
    "is_symmetric(matrixSymmetric)"
   ]
  },
  {
   "cell_type": "code",
   "execution_count": 96,
   "id": "855cefdd-9f7f-45df-a062-bbe532a0f1f3",
   "metadata": {},
   "outputs": [
    {
     "name": "stdout",
     "output_type": "stream",
     "text": [
      "Matrix A:\n",
      "[[ 0  2 -3]\n",
      " [-2  0  4]\n",
      " [ 3 -4  0]]\n",
      "\n",
      "Transpose of A:\n",
      "[[ 0 -2  3]\n",
      " [ 2  0 -4]\n",
      " [-3  4  0]]\n",
      "\n",
      "Negative Transpose of A:\n",
      "[[ 0  2 -3]\n",
      " [-2  0  4]\n",
      " [ 3 -4  0]]\n",
      "\n",
      "Is the matrix asymmetric?: True\n"
     ]
    }
   ],
   "source": [
    "import numpy as np\n",
    "\n",
    "\n",
    "# Corrected asymmetric matrix\n",
    "matrixAsymmetric = np.array([\n",
    "    [0, 2, -3],\n",
    "    [-2, 0, 4],\n",
    "    [3, -4, 0]\n",
    "])\n",
    "\n",
    "print(\"Matrix A:\")\n",
    "print(matrixAsymmetric)\n",
    "print(\"\\nTranspose of A:\")\n",
    "print(matrixAsymmetric.T)\n",
    "print(\"\\nNegative Transpose of A:\")\n",
    "print(-matrixAsymmetric.T)\n",
    "\n",
    "def is_Asymmetric(matrix):\n",
    "    return np.array_equal(matrix, -matrix.T)\n",
    "\n",
    "print(\"\\nIs the matrix asymmetric?:\", is_Asymmetric(matrixAsymmetric))\n"
   ]
  },
  {
   "cell_type": "code",
   "execution_count": 19,
   "id": "1217647f-e94b-4b70-96ea-2de34e6dc128",
   "metadata": {},
   "outputs": [
    {
     "name": "stdout",
     "output_type": "stream",
     "text": [
      "Object 1 name: Default Object\n",
      "🚀Object 1 has no initial matrix.\n",
      "Object 2 name: Matrix Object\n",
      "⭐⭐Object 2's matrix:\n",
      " [[1 2]\n",
      " [3 4]]\n",
      "Object 3 name: Asymmetric Matrix Object\n",
      "Is obj3's matrix asymmetric? True\n",
      "Non Static method called by Default Object\n",
      "Non Static method called by Matrix Object\n",
      "Non Static method called by Asymmetric Matrix Object\n"
     ]
    }
   ],
   "source": [
    "import numpy as np\n",
    "\n",
    "class sampleClass:\n",
    "    \"\"\"\n",
    "    A class to perform various checks on matrices.\n",
    "    \"\"\"\n",
    "\n",
    "    def __init__(self, matrix=None, name=\"Default Object\"): # added name parameter\n",
    "        \"\"\"\n",
    "        Constructor for the sampleClass.\n",
    "\n",
    "        Args:\n",
    "            matrix (numpy.ndarray, optional): An initial matrix. Defaults to None.\n",
    "            name (str, optional): A name for the object. Defaults to \"Default Object\".\n",
    "        \"\"\"\n",
    "        self.matrix = matrix\n",
    "        self.name = name # Storing the name\n",
    "\n",
    "    @staticmethod\n",
    "    def is_asymmetric(matrix):\n",
    "        \"\"\"Check if the matrix is asymmetric.\"\"\"\n",
    "        return np.array_equal(matrix, -matrix.T)\n",
    "\n",
    "    @staticmethod\n",
    "    def check_a_minus_b_equals_b_minus_a(matrix_a, matrix_b):\n",
    "        \"\"\"Check if A - B equals B - A and verify if it implies A = B.\"\"\"\n",
    "        diff_ab = matrix_a - matrix_b\n",
    "        diff_ba = matrix_b - matrix_a\n",
    "        if np.array_equal(diff_ab, diff_ba):\n",
    "            return np.array_equal(matrix_a, matrix_b)\n",
    "        return False\n",
    "\n",
    "    def nonStaticMethod(self):\n",
    "        \"\"\"A non-static method.\"\"\"\n",
    "        print(f'Non Static method called by {self.name}') #Printing the name\n",
    "\n",
    "# Examples of usage:\n",
    "obj1 = sampleClass()  # Non-parameterized constructor\n",
    "print(f\"Object 1 name: {obj1.name}\")\n",
    "if obj1.matrix is None:\n",
    "    print(\"🚀Object 1 has no initial matrix.\")\n",
    "\n",
    "matrix = np.array([[1, 2], [3, 4]])\n",
    "obj2 = sampleClass(matrix, \"Matrix Object\")  # Parameterized constructor\n",
    "print(f\"Object 2 name: {obj2.name}\")\n",
    "print(\"⭐⭐Object 2's matrix:\\n\", obj2.matrix)\n",
    "\n",
    "matrix2 = np.array([[0, 1], [-1, 0]])\n",
    "obj3 = sampleClass(matrix2,\"Asymmetric Matrix Object\")\n",
    "print(f\"Object 3 name: {obj3.name}\")\n",
    "print(\"Is obj3's matrix asymmetric?\", sampleClass.is_asymmetric(obj3.matrix))\n",
    "\n",
    "obj1.nonStaticMethod()\n",
    "obj2.nonStaticMethod()\n",
    "obj3.nonStaticMethod()"
   ]
  },
  {
   "cell_type": "code",
   "execution_count": 126,
   "id": "a693df4c-e5d3-451f-93c5-ff5888c69fb0",
   "metadata": {},
   "outputs": [
    {
     "data": {
      "text/plain": [
       "('A.B',\n",
       " array([[23, 34],\n",
       "        [49, 68]]),\n",
       " 'B.A',\n",
       " array([[23, 34, 56],\n",
       "        [31, 46, 76],\n",
       "        [10, 14, 22]]))"
      ]
     },
     "execution_count": 126,
     "metadata": {},
     "output_type": "execute_result"
    }
   ],
   "source": [
    "A=np.array([[1,2,4],[3,4,6]])\n",
    "B=np.array([[5,6],[7,8],[1,3]])\n",
    "result=np.dot(A,B)\n",
    "result2=np.dot(B,A)\n",
    "'A.B',result,'B.A',result2"
   ]
  },
  {
   "cell_type": "code",
   "execution_count": 3,
   "id": "e98e3fe8-031c-4e2a-badf-949625fe7e12",
   "metadata": {},
   "outputs": [
    {
     "name": "stdout",
     "output_type": "stream",
     "text": [
      "Transpose Product Equality: True\n",
      "Transpose Sum Equality: True\n"
     ]
    }
   ],
   "source": [
    "import numpy as np\n",
    "\n",
    "# Define the matrices A and B\n",
    "A = np.array([[1, 2], [3, 4]])\n",
    "B = np.array([[5, 6], [7, 8]])\n",
    "\n",
    "def transpose(X):\n",
    "    return X.T\n",
    "\n",
    "# Check transpose of the product\n",
    "transpose_product = np.array_equal(transpose(np.dot(A, B)), np.dot(transpose(B), transpose(A)))\n",
    "transpose_sum = np.array_equal(transpose(A + B), transpose(A) + transpose(B))\n",
    "print(\"Transpose Product Equality:\", transpose_product)\n",
    "print(\"Transpose Sum Equality:\", transpose_sum)\n",
    "\"\"\"\n",
    "Hence Proved\n",
    "(𝐴+𝐵)^𝑇=𝐴^𝑇+𝐵^𝑇\n",
    "(𝐴𝐵)^𝑇=𝐵^𝑇 𝐴^𝑇\n",
    "\"\"\"\n"
   ]
  },
  {
   "cell_type": "code",
   "execution_count": null,
   "id": "60adbdbd-265a-447a-8bb5-674df8be8edb",
   "metadata": {},
   "outputs": [],
   "source": []
  }
 ],
 "metadata": {
  "kernelspec": {
   "display_name": "Python 3 (ipykernel)",
   "language": "python",
   "name": "python3"
  },
  "language_info": {
   "codemirror_mode": {
    "name": "ipython",
    "version": 3
   },
   "file_extension": ".py",
   "mimetype": "text/x-python",
   "name": "python",
   "nbconvert_exporter": "python",
   "pygments_lexer": "ipython3",
   "version": "3.12.4"
  }
 },
 "nbformat": 4,
 "nbformat_minor": 5
}
