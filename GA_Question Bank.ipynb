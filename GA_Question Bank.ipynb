{
 "cells": [
  {
   "cell_type": "code",
   "execution_count": 1,
   "id": "9a8ce61b-b2b4-4ea4-adf3-bda17172660c",
   "metadata": {},
   "outputs": [
    {
     "data": {
      "text/plain": [
       "{'(AB)^T': True,\n",
       " '(AB)^-1': True,\n",
       " 'A(B+C)': True,\n",
       " '(A^T)^-1': True,\n",
       " '(A^T A)^T': True}"
      ]
     },
     "execution_count": 1,
     "metadata": {},
     "output_type": "execute_result"
    }
   ],
   "source": [
    "# Verify properties\n",
    "import numpy as np\n",
    "#initializing the sample matrices A and B\n",
    "A = np.array([[1, 2], [3, 4]])\n",
    "B = np.array([[2, 0], [1, 2]])\n",
    "\n",
    "# Initialize a dictionary to store the results for verification\n",
    "verification_results = {}\n",
    "\n",
    "# Verify each property\n",
    "\n",
    "# (AB)^T = B^T A^T\n",
    "verification_results['(AB)^T'] = np.allclose(np.dot(A, B).T, np.dot(B.T, A.T))\n",
    "\n",
    "# (AB)^-1 = B^-1 A^-1\n",
    "verification_results['(AB)^-1'] = np.allclose(np.linalg.inv(np.dot(A, B)), np.dot(np.linalg.inv(B), np.linalg.inv(A)))\n",
    "\n",
    "# A(B+C) = AB + AC\n",
    "C = np.array([[1, 1], [1, 1]])  # Using a new matrix C for this property\n",
    "verification_results['A(B+C)'] = np.allclose(np.dot(A, B + C), np.dot(A, B) + np.dot(A, C))\n",
    "\n",
    "# (A^T)^-1 = (A^-1)^T\n",
    "verification_results['(A^T)^-1'] = np.allclose(np.linalg.inv(A.T), np.linalg.inv(A).T)\n",
    "\n",
    "# (A^T A)^T = A^T A\n",
    "verification_results['(A^T A)^T'] = np.allclose((np.dot(A.T, A)).T, np.dot(A.T, A))\n",
    "\n",
    "\n",
    "verification_results\n"
   ]
  },
  {
   "cell_type": "code",
   "execution_count": 2,
   "id": "f3a6110f-c5f5-4fcf-a5a2-42e7d09698a3",
   "metadata": {},
   "outputs": [
    {
     "data": {
      "text/plain": [
       "(2, True, 1, False)"
      ]
     },
     "execution_count": 2,
     "metadata": {},
     "output_type": "execute_result"
    }
   ],
   "source": [
    "# Linear independance in python\n",
    "# Define sets of vectors to check for linear independence and dependence\n",
    "independent_vectors = np.array([[1, 0], [0, 1]])  # Should be independent\n",
    "dependent_vectors = np.array([[1, 2], [2, 4]])    # Should be dependent\n",
    "\n",
    "# Calculate the ranks\n",
    "rank_independent = np.linalg.matrix_rank(independent_vectors)\n",
    "rank_dependent = np.linalg.matrix_rank(dependent_vectors)\n",
    "\n",
    "# Check for linear independence\n",
    "is_independent = rank_independent == independent_vectors.shape[1]\n",
    "is_dependent = rank_dependent == dependent_vectors.shape[1]\n",
    "\n",
    "rank_independent, is_independent, rank_dependent, is_dependent\n"
   ]
  },
  {
   "cell_type": "code",
   "execution_count": 3,
   "id": "9aa2acc8-f282-4c15-9048-06d894fe7417",
   "metadata": {},
   "outputs": [
    {
     "data": {
      "text/plain": [
       "(array([[1, 3],\n",
       "        [2, 4]]),\n",
       " array([[-2. ,  1. ],\n",
       "        [ 1.5, -0.5]]),\n",
       " -2.0000000000000004,\n",
       " 5)"
      ]
     },
     "execution_count": 3,
     "metadata": {},
     "output_type": "execute_result"
    }
   ],
   "source": [
    "# Inv Det transpose\n",
    "# Define a sample square matrix A\n",
    "A = np.array([[1, 2], [3, 4]])\n",
    "\n",
    "# Calculate the transpose of A\n",
    "transpose_A = np.transpose(A)\n",
    "\n",
    "# Calculate the inverse of A\n",
    "# Check if the matrix is invertible (determinant is not zero) before finding the inverse\n",
    "if np.linalg.det(A) != 0:\n",
    "    inverse_A = np.linalg.inv(A)\n",
    "else:\n",
    "    inverse_A = \"Matrix is not invertible\"\n",
    "\n",
    "# Calculate the determinant of A\n",
    "determinant_A = np.linalg.det(A)\n",
    "\n",
    "# Calculate the trace of A\n",
    "trace_A = np.trace(A)\n",
    "\n",
    "transpose_A, inverse_A, determinant_A, trace_A\n"
   ]
  },
  {
   "cell_type": "code",
   "execution_count": 4,
   "id": "cc44c7b4-70bd-45fe-b845-a0c01ed9064e",
   "metadata": {},
   "outputs": [
    {
     "data": {
      "text/plain": [
       "2"
      ]
     },
     "execution_count": 4,
     "metadata": {},
     "output_type": "execute_result"
    }
   ],
   "source": [
    "# Rank of Matrix \n",
    "# Define a sample matrix for which we will find the rank\n",
    "B = np.array([[1, 2, 3], [4, 5, 6], [7, 8, 9]])\n",
    "\n",
    "# Calculate the rank of the matrix\n",
    "rank_B = np.linalg.matrix_rank(B)\n",
    "\n",
    "rank_B\n"
   ]
  },
  {
   "cell_type": "code",
   "execution_count": 5,
   "id": "d68cc286-dd68-4034-842b-7fb6da0edab5",
   "metadata": {},
   "outputs": [
    {
     "data": {
      "text/plain": [
       "array([[1.25, 1.25],\n",
       "       [1.25, 1.25]])"
      ]
     },
     "execution_count": 5,
     "metadata": {},
     "output_type": "execute_result"
    }
   ],
   "source": [
    "# Covariance matrix\n",
    "# Let's consider a simple dataset with two features x and y for demonstration\n",
    "data = np.array([[1, 2], [2, 3], [3, 4], [4, 5], [5, 6]])\n",
    "\n",
    "# Standardize the data (Optional but often recommended)\n",
    "data_standardized = (data - np.mean(data, axis=0)) / np.std(data, axis=0)\n",
    "\n",
    "# Calculate the covariance matrix\n",
    "cov_matrix = np.cov(data_standardized.T)\n",
    "\n",
    "cov_matrix\n",
    "\n"
   ]
  },
  {
   "cell_type": "code",
   "execution_count": 6,
   "id": "f5dd72c3-388b-4375-8655-9505d4719203",
   "metadata": {},
   "outputs": [
    {
     "data": {
      "text/plain": [
       "(array([1.38196601, 3.61803399]),\n",
       " array([[-0.85065081, -0.52573111],\n",
       "        [ 0.52573111, -0.85065081]]))"
      ]
     },
     "execution_count": 6,
     "metadata": {},
     "output_type": "execute_result"
    }
   ],
   "source": [
    "# Eigen values and Eigen vectors \n",
    "# Define a sample matrix for which we will find eigenvalues and eigenvectors\n",
    "A = np.array([[2, 1], [1, 3]])\n",
    "\n",
    "# Calculate eigenvalues and eigenvectors\n",
    "eigenvalues, eigenvectors = np.linalg.eig(A)\n",
    "\n",
    "eigenvalues, eigenvectors\n"
   ]
  },
  {
   "cell_type": "code",
   "execution_count": 15,
   "id": "1c2f0c9d-c0e3-4577-be05-4d59c138e4f4",
   "metadata": {},
   "outputs": [
    {
     "data": {
      "text/plain": [
       "(array([[-1.41421356, -1.41421356],\n",
       "        [-0.70710678, -0.70710678],\n",
       "        [ 0.        ,  0.        ],\n",
       "        [ 0.70710678,  0.70710678],\n",
       "        [ 1.41421356,  1.41421356]]),\n",
       " array([[1.25, 1.25],\n",
       "        [1.25, 1.25]]),\n",
       " array([ 2.50000000e+00, -2.77555756e-16]),\n",
       " array([[ 0.70710678, -0.70710678],\n",
       "        [ 0.70710678,  0.70710678]]),\n",
       " array([ 2.50000000e+00, -2.77555756e-16]),\n",
       " array([[ 0.70710678, -0.70710678],\n",
       "        [ 0.70710678,  0.70710678]]),\n",
       " array([[-2.],\n",
       "        [-1.],\n",
       "        [ 0.],\n",
       "        [ 1.],\n",
       "        [ 2.]]))"
      ]
     },
     "execution_count": 15,
     "metadata": {},
     "output_type": "execute_result"
    }
   ],
   "source": [
    "# Step By Step PCA in Python\n",
    "# Importing necessary libraries\n",
    "import numpy as np\n",
    "from sklearn.preprocessing import StandardScaler\n",
    "from sklearn.decomposition import PCA\n",
    "\n",
    "# Create a dataset with two features (x1 and x2) and 5 observations\n",
    "data = np.array([[1, 2],\n",
    "                 [2, 3],\n",
    "                 [3, 4],\n",
    "                 [4, 5],\n",
    "                 [5, 6]])\n",
    "\n",
    "# Step 1: Standardize the data\n",
    "scaler = StandardScaler()\n",
    "data_standardized = scaler.fit_transform(data)\n",
    "\n",
    "# Step 2: Calculate the covariance matrix\n",
    "cov_matrix = np.cov(data_standardized.T)\n",
    "\n",
    "# Step 3: Calculate eigenvalues and eigenvectors\n",
    "eigenvalues, eigenvectors = np.linalg.eig(cov_matrix)\n",
    "\n",
    "# Step 4: Sort eigenvalues and their corresponding eigenvectors\n",
    "sorted_index = np.argsort(eigenvalues)[::-1]\n",
    "sorted_eigenvalues = eigenvalues[sorted_index]\n",
    "sorted_eigenvectors = eigenvectors[:, sorted_index]\n",
    "\n",
    "# Step 5: Select the top k eigenvectors\n",
    "k = 1  # Number of principal components you want to keep\n",
    "top_eigenvectors = sorted_eigenvectors[:, :k]\n",
    "\n",
    "# Step 6: Project the data into the new subspace\n",
    "principal_components = np.dot(data_standardized, top_eigenvectors)\n",
    "\n",
    "data_standardized, cov_matrix, eigenvalues, eigenvectors, sorted_eigenvalues, sorted_eigenvectors, principal_components\n"
   ]
  },
  {
   "cell_type": "code",
   "execution_count": 7,
   "id": "49ea767f-2864-4440-b41a-c8e11eec5c22",
   "metadata": {},
   "outputs": [
    {
     "data": {
      "text/plain": [
       "(array([[-0.2298477 ,  0.88346102,  0.40824829],\n",
       "        [-0.52474482,  0.24078249, -0.81649658],\n",
       "        [-0.81964194, -0.40189603,  0.40824829]]),\n",
       " array([9.52551809, 0.51430058]),\n",
       " array([[-0.61962948, -0.78489445],\n",
       "        [-0.78489445,  0.61962948]]))"
      ]
     },
     "execution_count": 7,
     "metadata": {},
     "output_type": "execute_result"
    }
   ],
   "source": [
    "# Svd python \n",
    "# Given matrix A\n",
    "A = np.array([[1, 2], [3, 4], [5, 6]])\n",
    "\n",
    "# Perform Singular Value Decomposition (SVD)\n",
    "U, S, VT = np.linalg.svd(A)\n",
    "\n",
    "U, S, VT\n"
   ]
  },
  {
   "cell_type": "code",
   "execution_count": 8,
   "id": "4cde10d4-b677-4bd7-a864-6a381fb41fab",
   "metadata": {},
   "outputs": [
    {
     "data": {
      "text/plain": [
       "(1.7058823529411764, 1.5294117647058825)"
      ]
     },
     "execution_count": 8,
     "metadata": {},
     "output_type": "execute_result"
    }
   ],
   "source": [
    "#To solve the system of equations\n",
    "# Let's consider a simple system of equations for demonstration:\n",
    "# 2x + 3y = 8\n",
    "# 5x - y = 7\n",
    "\n",
    "# Define the coefficient matrix and the constant vector\n",
    "A = np.array([[2, 3], [5, -1]])\n",
    "b = np.array([8, 7])\n",
    "\n",
    "# Solve the system of equations\n",
    "x, y = np.linalg.solve(A, b)\n",
    "\n",
    "x, y\n"
   ]
  },
  {
   "cell_type": "code",
   "execution_count": 9,
   "id": "dd5e2ca6-9b0f-4e4d-941f-dea57e810a79",
   "metadata": {},
   "outputs": [
    {
     "data": {
      "text/latex": [
       "$\\displaystyle 2 x + 2$"
      ],
      "text/plain": [
       "2*x + 2"
      ]
     },
     "execution_count": 9,
     "metadata": {},
     "output_type": "execute_result"
    }
   ],
   "source": [
    "# Derivative in Python\n",
    "from sympy import symbols, diff\n",
    "\n",
    "# Declare the variable\n",
    "x = symbols('x')\n",
    "\n",
    "# Define the function for which you want to find the derivative\n",
    "# For demonstration, let's consider the function f(x) = x^2 + 2x + 1\n",
    "f = x**2 + 2*x + 1\n",
    "\n",
    "# Compute the derivative\n",
    "derivative_f = diff(f, x)\n",
    "\n",
    "derivative_f\n"
   ]
  },
  {
   "cell_type": "code",
   "execution_count": 10,
   "id": "e455be1b-2a27-4e45-af8c-b18c4ba3ce50",
   "metadata": {},
   "outputs": [
    {
     "data": {
      "text/plain": [
       "(2*x, 2*y, 2*z)"
      ]
     },
     "execution_count": 10,
     "metadata": {},
     "output_type": "execute_result"
    }
   ],
   "source": [
    "#Partial Derivative in python\n",
    "from sympy import symbols, diff\n",
    "\n",
    "# Declare the variables\n",
    "x, y, z = symbols('x y z')\n",
    "\n",
    "# Define the function for which you want to find the partial derivatives\n",
    "# For demonstration, let's consider the function f(x, y, z) = x^2 + y^2 + z^2\n",
    "f = x**2 + y**2 + z**2\n",
    "\n",
    "# Compute the partial derivatives\n",
    "partial_x = diff(f, x)\n",
    "partial_y = diff(f, y)\n",
    "partial_z = diff(f, z)\n",
    "\n",
    "partial_x, partial_y, partial_z\n"
   ]
  },
  {
   "cell_type": "code",
   "execution_count": 11,
   "id": "bd0c26f0-0ae2-4e1b-b39c-47f536e66d43",
   "metadata": {},
   "outputs": [
    {
     "data": {
      "text/latex": [
       "$\\displaystyle \\left[\\begin{matrix}2 x & 1\\\\1 & 2 y\\end{matrix}\\right]$"
      ],
      "text/plain": [
       "Matrix([\n",
       "[2*x,   1],\n",
       "[  1, 2*y]])"
      ]
     },
     "execution_count": 11,
     "metadata": {},
     "output_type": "execute_result"
    }
   ],
   "source": [
    "# Jacobian in Python\n",
    "from sympy import Matrix\n",
    "\n",
    "# Declare the variables\n",
    "x, y = symbols('x y')\n",
    "\n",
    "# Define the functions for which you want to find the Jacobian\n",
    "# For demonstration, let's consider the functions f(x, y) = x^2 + y and g(x, y) = x + y^2\n",
    "f = x**2 + y\n",
    "g = x + y**2\n",
    "\n",
    "# Create a vector of functions\n",
    "F = Matrix([f, g])\n",
    "\n",
    "# Compute the Jacobian with respect to x and y\n",
    "Jacobian = F.jacobian([x, y])\n",
    "\n",
    "Jacobian\n"
   ]
  },
  {
   "cell_type": "code",
   "execution_count": 12,
   "id": "53fbf3e1-a659-47d8-abd4-70e57d13ce77",
   "metadata": {},
   "outputs": [
    {
     "data": {
      "image/png": "[encoded data removed]",
      "text/plain": [
       "<Figure size 640x480 with 1 Axes>"
      ]
     },
     "metadata": {},
     "output_type": "display_data"
    },
    {
     "data": {
      "text/plain": [
       "(0.501614278297858, 1.0005384106280457)"
      ]
     },
     "execution_count": 12,
     "metadata": {},
     "output_type": "execute_result"
    }
   ],
   "source": [
    "# Simple Regression in Python\n",
    "import matplotlib.pyplot as plt\n",
    "\n",
    "# Generate some sample data for x and y\n",
    "x = np.array([1, 2, 3, 4, 5])\n",
    "y = np.array([2, 4, 3, 3, 5])\n",
    "\n",
    "# Initialize parameters a and b\n",
    "a = 0.5\n",
    "b = 1\n",
    "\n",
    "# Define the learning rate and number of epochs\n",
    "learning_rate = 0.000001\n",
    "epochs = 60\n",
    "\n",
    "# Store the cost at each epoch\n",
    "cost_history = []\n",
    "\n",
    "# Run Gradient Descent\n",
    "for epoch in range(epochs):\n",
    "    # Predict y using current a and b\n",
    "    y_pred = a * x + b\n",
    "    \n",
    "    # Compute the loss (Mean Squared Error)\n",
    "    loss = np.mean((y - y_pred)**2)\n",
    "    cost_history.append(loss)\n",
    "    \n",
    "    # Compute the gradients for a and b\n",
    "    da = -2 * np.sum(x * (y - y_pred))\n",
    "    db = -2 * np.sum(y - y_pred)\n",
    "    \n",
    "    # Update a and b\n",
    "    a -= learning_rate * da\n",
    "    b -= learning_rate * db\n",
    "\n",
    "# Plot the cost function\n",
    "plt.plot(range(epochs), cost_history)\n",
    "plt.xlabel('Epoch')\n",
    "plt.ylabel('Cost')\n",
    "plt.title('Cost Function Over Epochs')\n",
    "plt.show()\n",
    "\n",
    "# Optimal values of a and b\n",
    "a, b\n"
   ]
  },
  {
   "cell_type": "code",
   "execution_count": null,
   "id": "ba9af8bb-15ff-4f3e-9230-4af4baaed2fd",
   "metadata": {},
   "outputs": [],
   "source": []
  }
 ],
 "metadata": {
  "kernelspec": {
   "display_name": "Python 3 (ipykernel)",
   "language": "python",
   "name": "python3"
  },
  "language_info": {
   "codemirror_mode": {
    "name": "ipython",
    "version": 3
   },
   "file_extension": ".py",
   "mimetype": "text/x-python",
   "name": "python",
   "nbconvert_exporter": "python",
   "pygments_lexer": "ipython3",
   "version": "3.11.5"
  }
 },
 "nbformat": 4,
 "nbformat_minor": 5
}
