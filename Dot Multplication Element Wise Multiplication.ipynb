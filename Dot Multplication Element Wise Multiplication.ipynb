{
 "cells": [
  {
   "cell_type": "code",
   "execution_count": 1,
   "metadata": {},
   "outputs": [],
   "source": [
    "import numpy as np\n"
   ]
  },
  {
   "cell_type": "markdown",
   "metadata": {},
   "source": [
    "Element-wise Multiplication (*): Requires matrices of the same shape. Multiplies corresponding elements.\n",
    "Dot Product (np.dot() or @): Requires the number of columns in the first matrix to equal the number of rows in the second matrix. Combines rows and columns to produce the resulting matrix."
   ]
  },
  {
   "cell_type": "markdown",
   "metadata": {},
   "source": [
    "Dot Product"
   ]
  },
  {
   "cell_type": "code",
   "execution_count": 2,
   "metadata": {},
   "outputs": [
    {
     "name": "stdout",
     "output_type": "stream",
     "text": [
      "[[19 22]\n",
      " [43 50]]\n"
     ]
    }
   ],
   "source": [
    "import numpy as np\n",
    "\n",
    "# Define two 2-D arrays\n",
    "A = np.array([[1, 2], [3, 4]])\n",
    "B = np.array([[5, 6], [7, 8]])\n",
    "\n",
    "# Dot product\n",
    "C = np.dot(A, B)\n",
    "# or equivalently\n",
    "C = A @ B\n",
    "\n",
    "print(C)\n"
   ]
  },
  {
   "cell_type": "markdown",
   "metadata": {},
   "source": [
    "Element-wise Multiplication"
   ]
  },
  {
   "cell_type": "code",
   "execution_count": 3,
   "metadata": {},
   "outputs": [
    {
     "name": "stdout",
     "output_type": "stream",
     "text": [
      "[[ 5 12]\n",
      " [21 32]]\n"
     ]
    }
   ],
   "source": [
    "import numpy as np\n",
    "\n",
    "# Define two 2-D arrays\n",
    "A = np.array([[1, 2], [3, 4]])\n",
    "B = np.array([[5, 6], [7, 8]])\n",
    "\n",
    "# Element-wise multiplication\n",
    "C = np.multiply(A, B)\n",
    "# or equivalently\n",
    "C = A * B\n",
    "\n",
    "print(C)\n"
   ]
  },
  {
   "cell_type": "markdown",
   "metadata": {},
   "source": [
    "Dot Product\n",
    "The dot product of two 1-D vectors results in a single scalar value, calculated as the sum of the products of corresponding elements."
   ]
  },
  {
   "cell_type": "code",
   "execution_count": 1,
   "metadata": {},
   "outputs": [
    {
     "name": "stdout",
     "output_type": "stream",
     "text": [
      "32\n"
     ]
    }
   ],
   "source": [
    "import numpy as np\n",
    "\n",
    "a = np.array([1, 2, 3])\n",
    "b = np.array([4, 5, 6])\n",
    "\n",
    "# Dot product\n",
    "dot_product = np.dot(a, b)\n",
    "\n",
    "print(dot_product)\n"
   ]
  },
  {
   "cell_type": "markdown",
   "metadata": {},
   "source": [
    "Dot Product (Matrix Multiplication)\n",
    "The dot product, or matrix multiplication, combines rows from the first matrix with columns from the second matrix.\n",
    "\n",
    "Rules:\n",
    "Dimension Compatibility: The number of columns in the first matrix must equal the number of rows in the second matrix.\n",
    "Resulting Dimensions: The resulting matrix has the number of rows of the first matrix and the number of columns of the second matrix.\n",
    "Operation: Each element in the resulting matrix is the sum of the products of the corresponding elements from the row of the first matrix and the column of the second matrix.\n",
    "\n",
    "Element-wise Multiplication\n",
    "Element-wise multiplication, also known as the Hadamard product, multiplies corresponding elements of two matrices of the same dimensions.\n",
    "\n",
    "Rules:\n",
    "Same Dimensions: Both matrices must have the same shape.\n",
    "Operation: Each element in the resulting matrix is the product of the corresponding elements from the input matrices."
   ]
  }
 ],
 "metadata": {
  "kernelspec": {
   "display_name": "Python 3",
   "language": "python",
   "name": "python3"
  },
  "language_info": {
   "codemirror_mode": {
    "name": "ipython",
    "version": 3
   },
   "file_extension": ".py",
   "mimetype": "text/x-python",
   "name": "python",
   "nbconvert_exporter": "python",
   "pygments_lexer": "ipython3",
   "version": "3.12.6"
  }
 },
 "nbformat": 4,
 "nbformat_minor": 2
}
